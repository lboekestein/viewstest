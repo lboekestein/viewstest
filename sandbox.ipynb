{
 "cells": [
  {
   "metadata": {},
   "cell_type": "markdown",
   "source": "## Sandbox for Viewser, VIEWS API, etc.",
   "id": "cf4bfd85bc39de26"
  },
  {
   "cell_type": "code",
   "id": "initial_id",
   "metadata": {
    "collapsed": true,
    "ExecuteTime": {
     "end_time": "2025-09-02T13:13:53.018633Z",
     "start_time": "2025-09-02T13:13:51.124064Z"
    }
   },
   "source": "from viewser import Queryset, Column",
   "outputs": [],
   "execution_count": 1
  },
  {
   "metadata": {},
   "cell_type": "markdown",
   "source": "Set up query",
   "id": "2f8175b90274008b"
  },
  {
   "metadata": {
    "ExecuteTime": {
     "end_time": "2025-09-02T13:19:54.335681Z",
     "start_time": "2025-09-02T13:19:54.331107Z"
    }
   },
   "cell_type": "code",
   "source": [
    "new_queryset = (Queryset(\"simple_conflict\", \"country_month\")\n",
    "\n",
    "           .with_column(Column(\"ged_sb\", from_loa=\"country_month\", from_column=\"ged_sb_best_sum_nokgi\")\n",
    "                        )\n",
    "            )\n"
   ],
   "id": "1786290cf81c3c64",
   "outputs": [],
   "execution_count": 6
  },
  {
   "metadata": {},
   "cell_type": "markdown",
   "source": "Publish the Query",
   "id": "bce56db235d7ff15"
  },
  {
   "metadata": {
    "ExecuteTime": {
     "end_time": "2025-09-02T13:21:11.780173Z",
     "start_time": "2025-09-02T13:21:11.753421Z"
    }
   },
   "cell_type": "code",
   "source": "data = new_queryset.publish()",
   "id": "777e768e08d1df82",
   "outputs": [],
   "execution_count": 7
  },
  {
   "metadata": {},
   "cell_type": "markdown",
   "source": "Fetch the Query",
   "id": "6db88bb47a705496"
  },
  {
   "metadata": {
    "ExecuteTime": {
     "end_time": "2025-09-02T13:21:35.216235Z",
     "start_time": "2025-09-02T13:21:19.931002Z"
    }
   },
   "cell_type": "code",
   "source": "data = new_queryset.fetch()",
   "id": "da0696d04182eff7",
   "outputs": [
    {
     "name": "stdout",
     "output_type": "stream",
     "text": [
      "Queryset simple_conflict read successfully                                            \n"
     ]
    }
   ],
   "execution_count": 8
  },
  {
   "metadata": {
    "ExecuteTime": {
     "end_time": "2025-09-02T13:25:18.653630Z",
     "start_time": "2025-09-02T13:25:18.643425Z"
    }
   },
   "cell_type": "code",
   "source": "data.head()",
   "id": "cab0a5d1e881be64",
   "outputs": [
    {
     "data": {
      "text/plain": [
       "                     ged_sb\n",
       "month_id country_id        \n",
       "1        1              NaN\n",
       "         2              NaN\n",
       "         3              NaN\n",
       "         4              NaN\n",
       "         5              NaN"
      ],
      "text/html": [
       "<div>\n",
       "<style scoped>\n",
       "    .dataframe tbody tr th:only-of-type {\n",
       "        vertical-align: middle;\n",
       "    }\n",
       "\n",
       "    .dataframe tbody tr th {\n",
       "        vertical-align: top;\n",
       "    }\n",
       "\n",
       "    .dataframe thead th {\n",
       "        text-align: right;\n",
       "    }\n",
       "</style>\n",
       "<table border=\"1\" class=\"dataframe\">\n",
       "  <thead>\n",
       "    <tr style=\"text-align: right;\">\n",
       "      <th></th>\n",
       "      <th></th>\n",
       "      <th>ged_sb</th>\n",
       "    </tr>\n",
       "    <tr>\n",
       "      <th>month_id</th>\n",
       "      <th>country_id</th>\n",
       "      <th></th>\n",
       "    </tr>\n",
       "  </thead>\n",
       "  <tbody>\n",
       "    <tr>\n",
       "      <th rowspan=\"5\" valign=\"top\">1</th>\n",
       "      <th>1</th>\n",
       "      <td>NaN</td>\n",
       "    </tr>\n",
       "    <tr>\n",
       "      <th>2</th>\n",
       "      <td>NaN</td>\n",
       "    </tr>\n",
       "    <tr>\n",
       "      <th>3</th>\n",
       "      <td>NaN</td>\n",
       "    </tr>\n",
       "    <tr>\n",
       "      <th>4</th>\n",
       "      <td>NaN</td>\n",
       "    </tr>\n",
       "    <tr>\n",
       "      <th>5</th>\n",
       "      <td>NaN</td>\n",
       "    </tr>\n",
       "  </tbody>\n",
       "</table>\n",
       "</div>"
      ]
     },
     "execution_count": 11,
     "metadata": {},
     "output_type": "execute_result"
    }
   ],
   "execution_count": 11
  }
 ],
 "metadata": {
  "kernelspec": {
   "display_name": "Python 3",
   "language": "python",
   "name": "python3"
  },
  "language_info": {
   "codemirror_mode": {
    "name": "ipython",
    "version": 2
   },
   "file_extension": ".py",
   "mimetype": "text/x-python",
   "name": "python",
   "nbconvert_exporter": "python",
   "pygments_lexer": "ipython2",
   "version": "2.7.6"
  }
 },
 "nbformat": 4,
 "nbformat_minor": 5
}
