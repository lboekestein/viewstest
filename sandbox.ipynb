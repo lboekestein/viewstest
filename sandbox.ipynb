{
 "cells": [
  {
   "metadata": {},
   "cell_type": "markdown",
   "source": "## Sandbox for Viewser, VIEWS API, etc.",
   "id": "cf4bfd85bc39de26"
  },
  {
   "metadata": {},
   "cell_type": "markdown",
   "source": "#### Basic test of Queryset",
   "id": "184c1ae95f810f92"
  },
  {
   "cell_type": "code",
   "id": "initial_id",
   "metadata": {
    "collapsed": true,
    "ExecuteTime": {
     "end_time": "2025-09-05T08:36:44.859766Z",
     "start_time": "2025-09-05T08:36:44.850578Z"
    }
   },
   "source": [
    "from viewser import Queryset, Column\n",
    "\n",
    "import re\n",
    "\n",
    "import matplotlib.pyplot as plt\n",
    "import numpy as np\n",
    "import pandas as pd\n",
    "\n",
    "import requests\n",
    "import json"
   ],
   "outputs": [],
   "execution_count": 45
  },
  {
   "metadata": {},
   "cell_type": "markdown",
   "source": "Set up query",
   "id": "2f8175b90274008b"
  },
  {
   "metadata": {
    "ExecuteTime": {
     "end_time": "2025-09-02T13:19:54.335681Z",
     "start_time": "2025-09-02T13:19:54.331107Z"
    }
   },
   "cell_type": "code",
   "source": [
    "new_queryset = (Queryset(\"simple_conflict\", \"country_month\")\n",
    "           .with_column(Column(\"ged_sb\", from_loa=\"country_month\", from_column=\"ged_sb_best_sum_nokgi\")))"
   ],
   "id": "1786290cf81c3c64",
   "outputs": [],
   "execution_count": 6
  },
  {
   "metadata": {},
   "cell_type": "markdown",
   "source": "Publish the Query",
   "id": "bce56db235d7ff15"
  },
  {
   "metadata": {
    "ExecuteTime": {
     "end_time": "2025-09-02T13:21:11.780173Z",
     "start_time": "2025-09-02T13:21:11.753421Z"
    }
   },
   "cell_type": "code",
   "source": "data = new_queryset.publish()",
   "id": "777e768e08d1df82",
   "outputs": [],
   "execution_count": 7
  },
  {
   "metadata": {},
   "cell_type": "markdown",
   "source": "Fetch the Query",
   "id": "6db88bb47a705496"
  },
  {
   "metadata": {
    "ExecuteTime": {
     "end_time": "2025-09-02T13:21:35.216235Z",
     "start_time": "2025-09-02T13:21:19.931002Z"
    }
   },
   "cell_type": "code",
   "source": "data = new_queryset.fetch()",
   "id": "da0696d04182eff7",
   "outputs": [
    {
     "name": "stdout",
     "output_type": "stream",
     "text": [
      "Queryset simple_conflict read successfully                                            \n"
     ]
    }
   ],
   "execution_count": 8
  },
  {
   "metadata": {
    "ExecuteTime": {
     "end_time": "2025-09-02T13:25:18.653630Z",
     "start_time": "2025-09-02T13:25:18.643425Z"
    }
   },
   "cell_type": "code",
   "source": "data.head()",
   "id": "cab0a5d1e881be64",
   "outputs": [
    {
     "data": {
      "text/plain": [
       "                     ged_sb\n",
       "month_id country_id        \n",
       "1        1              NaN\n",
       "         2              NaN\n",
       "         3              NaN\n",
       "         4              NaN\n",
       "         5              NaN"
      ],
      "text/html": [
       "<div>\n",
       "<style scoped>\n",
       "    .dataframe tbody tr th:only-of-type {\n",
       "        vertical-align: middle;\n",
       "    }\n",
       "\n",
       "    .dataframe tbody tr th {\n",
       "        vertical-align: top;\n",
       "    }\n",
       "\n",
       "    .dataframe thead th {\n",
       "        text-align: right;\n",
       "    }\n",
       "</style>\n",
       "<table border=\"1\" class=\"dataframe\">\n",
       "  <thead>\n",
       "    <tr style=\"text-align: right;\">\n",
       "      <th></th>\n",
       "      <th></th>\n",
       "      <th>ged_sb</th>\n",
       "    </tr>\n",
       "    <tr>\n",
       "      <th>month_id</th>\n",
       "      <th>country_id</th>\n",
       "      <th></th>\n",
       "    </tr>\n",
       "  </thead>\n",
       "  <tbody>\n",
       "    <tr>\n",
       "      <th rowspan=\"5\" valign=\"top\">1</th>\n",
       "      <th>1</th>\n",
       "      <td>NaN</td>\n",
       "    </tr>\n",
       "    <tr>\n",
       "      <th>2</th>\n",
       "      <td>NaN</td>\n",
       "    </tr>\n",
       "    <tr>\n",
       "      <th>3</th>\n",
       "      <td>NaN</td>\n",
       "    </tr>\n",
       "    <tr>\n",
       "      <th>4</th>\n",
       "      <td>NaN</td>\n",
       "    </tr>\n",
       "    <tr>\n",
       "      <th>5</th>\n",
       "      <td>NaN</td>\n",
       "    </tr>\n",
       "  </tbody>\n",
       "</table>\n",
       "</div>"
      ]
     },
     "execution_count": 11,
     "metadata": {},
     "output_type": "execute_result"
    }
   ],
   "execution_count": 11
  },
  {
   "metadata": {},
   "cell_type": "markdown",
   "source": "More advanced Query",
   "id": "7ff7f4ae76c44514"
  },
  {
   "metadata": {
    "ExecuteTime": {
     "end_time": "2025-09-03T12:06:56.060265Z",
     "start_time": "2025-09-03T12:06:56.055271Z"
    }
   },
   "cell_type": "code",
   "source": [
    "adv_queryset = (Queryset(\"luuk_test_query\", \"country_year\")\n",
    "\n",
    "                .with_column(Column(\"sb_fat\", from_loa=\"country_month\",\n",
    "                                    from_column=\"ged_sb_best_sum_nokgi\")\n",
    "                             .aggregate('sum')\n",
    "                             .transform.missing.replace_na())\n",
    "\n",
    "                .with_column(Column(\"protests\", from_loa=\"country_month\",\n",
    "                                    from_column=\"acled_pr_count\")\n",
    "                             .aggregate('avg')\n",
    "                             .transform.missing.replace_na())\n",
    "                )"
   ],
   "id": "8331c3d85f2a44f5",
   "outputs": [],
   "execution_count": 21
  },
  {
   "metadata": {
    "ExecuteTime": {
     "end_time": "2025-09-03T12:07:13.617842Z",
     "start_time": "2025-09-03T12:06:58.425133Z"
    }
   },
   "cell_type": "code",
   "source": "data_adv = adv_queryset.publish().fetch()",
   "id": "6c9803e2d313ad93",
   "outputs": [
    {
     "name": "stdout",
     "output_type": "stream",
     "text": [
      "Queryset luuk_test_query read successfully                                             \n"
     ]
    }
   ],
   "execution_count": 22
  },
  {
   "metadata": {
    "ExecuteTime": {
     "end_time": "2025-09-03T12:07:16.910264Z",
     "start_time": "2025-09-03T12:07:16.896647Z"
    }
   },
   "cell_type": "code",
   "source": "data_adv.head()",
   "id": "6287ea71f2379b74",
   "outputs": [
    {
     "data": {
      "text/plain": [
       "                    sb_fat  protests\n",
       "year_id country_id                  \n",
       "1900    4              0.0       0.0\n",
       "        7              0.0       0.0\n",
       "        8              0.0       0.0\n",
       "        10             0.0       0.0\n",
       "        11             0.0       0.0"
      ],
      "text/html": [
       "<div>\n",
       "<style scoped>\n",
       "    .dataframe tbody tr th:only-of-type {\n",
       "        vertical-align: middle;\n",
       "    }\n",
       "\n",
       "    .dataframe tbody tr th {\n",
       "        vertical-align: top;\n",
       "    }\n",
       "\n",
       "    .dataframe thead th {\n",
       "        text-align: right;\n",
       "    }\n",
       "</style>\n",
       "<table border=\"1\" class=\"dataframe\">\n",
       "  <thead>\n",
       "    <tr style=\"text-align: right;\">\n",
       "      <th></th>\n",
       "      <th></th>\n",
       "      <th>sb_fat</th>\n",
       "      <th>protests</th>\n",
       "    </tr>\n",
       "    <tr>\n",
       "      <th>year_id</th>\n",
       "      <th>country_id</th>\n",
       "      <th></th>\n",
       "      <th></th>\n",
       "    </tr>\n",
       "  </thead>\n",
       "  <tbody>\n",
       "    <tr>\n",
       "      <th rowspan=\"5\" valign=\"top\">1900</th>\n",
       "      <th>4</th>\n",
       "      <td>0.0</td>\n",
       "      <td>0.0</td>\n",
       "    </tr>\n",
       "    <tr>\n",
       "      <th>7</th>\n",
       "      <td>0.0</td>\n",
       "      <td>0.0</td>\n",
       "    </tr>\n",
       "    <tr>\n",
       "      <th>8</th>\n",
       "      <td>0.0</td>\n",
       "      <td>0.0</td>\n",
       "    </tr>\n",
       "    <tr>\n",
       "      <th>10</th>\n",
       "      <td>0.0</td>\n",
       "      <td>0.0</td>\n",
       "    </tr>\n",
       "    <tr>\n",
       "      <th>11</th>\n",
       "      <td>0.0</td>\n",
       "      <td>0.0</td>\n",
       "    </tr>\n",
       "  </tbody>\n",
       "</table>\n",
       "</div>"
      ]
     },
     "execution_count": 23,
     "metadata": {},
     "output_type": "execute_result"
    }
   ],
   "execution_count": 23
  },
  {
   "metadata": {
    "ExecuteTime": {
     "end_time": "2025-09-03T12:11:30.000286Z",
     "start_time": "2025-09-03T12:11:23.854637Z"
    }
   },
   "cell_type": "code",
   "source": "data_fatalities = Queryset.from_storage(\"fatalities002_cm_conflict_history_stub\").fetch()",
   "id": "46682c84f852377c",
   "outputs": [
    {
     "name": "stderr",
     "output_type": "stream",
     "text": [
      "100%|██████████| 3.22M/3.22M [00:00<00:00, 54.3MB/s]\n"
     ]
    },
    {
     "name": "stdout",
     "output_type": "stream",
     "text": [
      "Queryset fatalities002_cm_conflict_history_stub read successfully \n"
     ]
    }
   ],
   "execution_count": 25
  },
  {
   "metadata": {
    "ExecuteTime": {
     "end_time": "2025-09-03T12:11:38.023988Z",
     "start_time": "2025-09-03T12:11:37.999667Z"
    }
   },
   "cell_type": "code",
   "source": "data_fatalities.head()",
   "id": "f46de674a438832b",
   "outputs": [
    {
     "data": {
      "text/plain": [
       "                     gleditsch_ward  ln_ged_ns  ln_ged_os  ln_acled_sb  \\\n",
       "month_id country_id                                                      \n",
       "1        1                      110        0.0        0.0          0.0   \n",
       "         2                      115        0.0        0.0          0.0   \n",
       "         3                       52        0.0        0.0          0.0   \n",
       "         4                      101        0.0        0.0          0.0   \n",
       "         5                      990        0.0        0.0          0.0   \n",
       "\n",
       "                     ln_acled_sb_count  ln_acled_os  ln_ged_sb_tlag_1  \\\n",
       "month_id country_id                                                     \n",
       "1        1                         0.0          0.0               0.0   \n",
       "         2                         0.0          0.0               0.0   \n",
       "         3                         0.0          0.0               0.0   \n",
       "         4                         0.0          0.0               0.0   \n",
       "         5                         0.0          0.0               0.0   \n",
       "\n",
       "                     ln_ged_sb_tlag_2  ln_ged_sb_tlag_3  ln_ged_sb_tlag_4  \\\n",
       "month_id country_id                                                         \n",
       "1        1                        0.0               0.0               0.0   \n",
       "         2                        0.0               0.0               0.0   \n",
       "         3                        0.0               0.0               0.0   \n",
       "         4                        0.0               0.0               0.0   \n",
       "         5                        0.0               0.0               0.0   \n",
       "\n",
       "                     ...  decay_ged_sb_100  decay_ged_sb_500  \\\n",
       "month_id country_id  ...                                       \n",
       "1        1           ...               0.0               0.0   \n",
       "         2           ...               0.0               0.0   \n",
       "         3           ...               0.0               0.0   \n",
       "         4           ...               0.0               0.0   \n",
       "         5           ...               0.0               0.0   \n",
       "\n",
       "                     decay_ged_os_100  decay_ged_ns_5  decay_ged_ns_100  \\\n",
       "month_id country_id                                                       \n",
       "1        1                        0.0             0.0               0.0   \n",
       "         2                        0.0             0.0               0.0   \n",
       "         3                        0.0             0.0               0.0   \n",
       "         4                        0.0             0.0               0.0   \n",
       "         5                        0.0             0.0               0.0   \n",
       "\n",
       "                     decay_acled_sb_5  decay_acled_os_5  decay_acled_ns_5  \\\n",
       "month_id country_id                                                         \n",
       "1        1                        0.0               0.0               0.0   \n",
       "         2                        0.0               0.0               0.0   \n",
       "         3                        0.0               0.0               0.0   \n",
       "         4                        0.0               0.0               0.0   \n",
       "         5                        0.0               0.0               0.0   \n",
       "\n",
       "                     splag_1_decay_ged_os_5  splag_1_decay_ged_ns_5  \n",
       "month_id country_id                                                  \n",
       "1        1                              0.0                     0.0  \n",
       "         2                              0.0                     0.0  \n",
       "         3                              0.0                     0.0  \n",
       "         4                              0.0                     0.0  \n",
       "         5                              0.0                     0.0  \n",
       "\n",
       "[5 rows x 24 columns]"
      ],
      "text/html": [
       "<div>\n",
       "<style scoped>\n",
       "    .dataframe tbody tr th:only-of-type {\n",
       "        vertical-align: middle;\n",
       "    }\n",
       "\n",
       "    .dataframe tbody tr th {\n",
       "        vertical-align: top;\n",
       "    }\n",
       "\n",
       "    .dataframe thead th {\n",
       "        text-align: right;\n",
       "    }\n",
       "</style>\n",
       "<table border=\"1\" class=\"dataframe\">\n",
       "  <thead>\n",
       "    <tr style=\"text-align: right;\">\n",
       "      <th></th>\n",
       "      <th></th>\n",
       "      <th>gleditsch_ward</th>\n",
       "      <th>ln_ged_ns</th>\n",
       "      <th>ln_ged_os</th>\n",
       "      <th>ln_acled_sb</th>\n",
       "      <th>ln_acled_sb_count</th>\n",
       "      <th>ln_acled_os</th>\n",
       "      <th>ln_ged_sb_tlag_1</th>\n",
       "      <th>ln_ged_sb_tlag_2</th>\n",
       "      <th>ln_ged_sb_tlag_3</th>\n",
       "      <th>ln_ged_sb_tlag_4</th>\n",
       "      <th>...</th>\n",
       "      <th>decay_ged_sb_100</th>\n",
       "      <th>decay_ged_sb_500</th>\n",
       "      <th>decay_ged_os_100</th>\n",
       "      <th>decay_ged_ns_5</th>\n",
       "      <th>decay_ged_ns_100</th>\n",
       "      <th>decay_acled_sb_5</th>\n",
       "      <th>decay_acled_os_5</th>\n",
       "      <th>decay_acled_ns_5</th>\n",
       "      <th>splag_1_decay_ged_os_5</th>\n",
       "      <th>splag_1_decay_ged_ns_5</th>\n",
       "    </tr>\n",
       "    <tr>\n",
       "      <th>month_id</th>\n",
       "      <th>country_id</th>\n",
       "      <th></th>\n",
       "      <th></th>\n",
       "      <th></th>\n",
       "      <th></th>\n",
       "      <th></th>\n",
       "      <th></th>\n",
       "      <th></th>\n",
       "      <th></th>\n",
       "      <th></th>\n",
       "      <th></th>\n",
       "      <th></th>\n",
       "      <th></th>\n",
       "      <th></th>\n",
       "      <th></th>\n",
       "      <th></th>\n",
       "      <th></th>\n",
       "      <th></th>\n",
       "      <th></th>\n",
       "      <th></th>\n",
       "      <th></th>\n",
       "      <th></th>\n",
       "    </tr>\n",
       "  </thead>\n",
       "  <tbody>\n",
       "    <tr>\n",
       "      <th rowspan=\"5\" valign=\"top\">1</th>\n",
       "      <th>1</th>\n",
       "      <td>110</td>\n",
       "      <td>0.0</td>\n",
       "      <td>0.0</td>\n",
       "      <td>0.0</td>\n",
       "      <td>0.0</td>\n",
       "      <td>0.0</td>\n",
       "      <td>0.0</td>\n",
       "      <td>0.0</td>\n",
       "      <td>0.0</td>\n",
       "      <td>0.0</td>\n",
       "      <td>...</td>\n",
       "      <td>0.0</td>\n",
       "      <td>0.0</td>\n",
       "      <td>0.0</td>\n",
       "      <td>0.0</td>\n",
       "      <td>0.0</td>\n",
       "      <td>0.0</td>\n",
       "      <td>0.0</td>\n",
       "      <td>0.0</td>\n",
       "      <td>0.0</td>\n",
       "      <td>0.0</td>\n",
       "    </tr>\n",
       "    <tr>\n",
       "      <th>2</th>\n",
       "      <td>115</td>\n",
       "      <td>0.0</td>\n",
       "      <td>0.0</td>\n",
       "      <td>0.0</td>\n",
       "      <td>0.0</td>\n",
       "      <td>0.0</td>\n",
       "      <td>0.0</td>\n",
       "      <td>0.0</td>\n",
       "      <td>0.0</td>\n",
       "      <td>0.0</td>\n",
       "      <td>...</td>\n",
       "      <td>0.0</td>\n",
       "      <td>0.0</td>\n",
       "      <td>0.0</td>\n",
       "      <td>0.0</td>\n",
       "      <td>0.0</td>\n",
       "      <td>0.0</td>\n",
       "      <td>0.0</td>\n",
       "      <td>0.0</td>\n",
       "      <td>0.0</td>\n",
       "      <td>0.0</td>\n",
       "    </tr>\n",
       "    <tr>\n",
       "      <th>3</th>\n",
       "      <td>52</td>\n",
       "      <td>0.0</td>\n",
       "      <td>0.0</td>\n",
       "      <td>0.0</td>\n",
       "      <td>0.0</td>\n",
       "      <td>0.0</td>\n",
       "      <td>0.0</td>\n",
       "      <td>0.0</td>\n",
       "      <td>0.0</td>\n",
       "      <td>0.0</td>\n",
       "      <td>...</td>\n",
       "      <td>0.0</td>\n",
       "      <td>0.0</td>\n",
       "      <td>0.0</td>\n",
       "      <td>0.0</td>\n",
       "      <td>0.0</td>\n",
       "      <td>0.0</td>\n",
       "      <td>0.0</td>\n",
       "      <td>0.0</td>\n",
       "      <td>0.0</td>\n",
       "      <td>0.0</td>\n",
       "    </tr>\n",
       "    <tr>\n",
       "      <th>4</th>\n",
       "      <td>101</td>\n",
       "      <td>0.0</td>\n",
       "      <td>0.0</td>\n",
       "      <td>0.0</td>\n",
       "      <td>0.0</td>\n",
       "      <td>0.0</td>\n",
       "      <td>0.0</td>\n",
       "      <td>0.0</td>\n",
       "      <td>0.0</td>\n",
       "      <td>0.0</td>\n",
       "      <td>...</td>\n",
       "      <td>0.0</td>\n",
       "      <td>0.0</td>\n",
       "      <td>0.0</td>\n",
       "      <td>0.0</td>\n",
       "      <td>0.0</td>\n",
       "      <td>0.0</td>\n",
       "      <td>0.0</td>\n",
       "      <td>0.0</td>\n",
       "      <td>0.0</td>\n",
       "      <td>0.0</td>\n",
       "    </tr>\n",
       "    <tr>\n",
       "      <th>5</th>\n",
       "      <td>990</td>\n",
       "      <td>0.0</td>\n",
       "      <td>0.0</td>\n",
       "      <td>0.0</td>\n",
       "      <td>0.0</td>\n",
       "      <td>0.0</td>\n",
       "      <td>0.0</td>\n",
       "      <td>0.0</td>\n",
       "      <td>0.0</td>\n",
       "      <td>0.0</td>\n",
       "      <td>...</td>\n",
       "      <td>0.0</td>\n",
       "      <td>0.0</td>\n",
       "      <td>0.0</td>\n",
       "      <td>0.0</td>\n",
       "      <td>0.0</td>\n",
       "      <td>0.0</td>\n",
       "      <td>0.0</td>\n",
       "      <td>0.0</td>\n",
       "      <td>0.0</td>\n",
       "      <td>0.0</td>\n",
       "    </tr>\n",
       "  </tbody>\n",
       "</table>\n",
       "<p>5 rows × 24 columns</p>\n",
       "</div>"
      ]
     },
     "execution_count": 26,
     "metadata": {},
     "output_type": "execute_result"
    }
   ],
   "execution_count": 26
  },
  {
   "metadata": {},
   "cell_type": "markdown",
   "source": "## API Experimenting",
   "id": "61ae9219160fc98f"
  },
  {
   "metadata": {
    "ExecuteTime": {
     "end_time": "2025-09-05T08:15:37.725458Z",
     "start_time": "2025-09-05T08:15:37.711695Z"
    }
   },
   "cell_type": "code",
   "source": [
    "dataset = \"fatalities002_2025_07_t01\"\n",
    "loa = \"cm\"\n",
    "csv = True\n",
    "month_id = 550\n",
    "\n",
    "if csv:\n",
    "    api_call = f'https://api.viewsforecasting.org/{dataset}/{loa}?month={month_id}&is_csv=true'\n",
    "else:\n",
    "    api_call = f'https://api.viewsforecasting.org/{dataset}/{loa}?month={month_id}'"
   ],
   "id": "c6220cca1797598d",
   "outputs": [],
   "execution_count": 17
  },
  {
   "metadata": {
    "ExecuteTime": {
     "end_time": "2025-09-05T08:15:40.293868Z",
     "start_time": "2025-09-05T08:15:40.073018Z"
    }
   },
   "cell_type": "code",
   "source": "data = pd.read_csv(api_call)",
   "id": "d94de5b17dae42d2",
   "outputs": [],
   "execution_count": 18
  },
  {
   "metadata": {
    "ExecuteTime": {
     "end_time": "2025-09-05T08:15:53.398091Z",
     "start_time": "2025-09-05T08:15:53.381648Z"
    }
   },
   "cell_type": "code",
   "source": "data.head()",
   "id": "ec305f353ae90a7f",
   "outputs": [
    {
     "data": {
      "text/plain": [
       "   country_id  month_id                 name  gwcode isoab  year  month  \\\n",
       "0           1       550               Guyana     110   GUY  2025     10   \n",
       "1           2       550             Suriname     115   SUR  2025     10   \n",
       "2           3       550  Trinidad and Tobago      52   TTO  2025     10   \n",
       "3           4       550            Venezuela     101   VEN  2025     10   \n",
       "4           5       550                Samoa     990   WSM  2025     10   \n",
       "\n",
       "   surrogate_mean_dem_ln  surrogate_mean_imr  surrogate_mean_pop_ln  \\\n",
       "0                 0.9408              0.8453                 0.1036   \n",
       "1                 0.1100              0.4405                 0.0979   \n",
       "2                 0.1121              0.5216                 0.1193   \n",
       "3                 0.7944              0.7220                 0.8116   \n",
       "4                 0.2678              0.3522                 0.0857   \n",
       "\n",
       "   surrogate_mean_imr_ln  surrogate_mean_pop  main_mean  main_dich  \\\n",
       "0                 0.6126              0.1092     0.0039     0.0041   \n",
       "1                 0.3650              0.1029     0.0022     0.0041   \n",
       "2                 0.4198              0.1267     0.0028     0.0041   \n",
       "3                 0.5435              1.2515     0.1045     0.0049   \n",
       "4                 0.3018              0.0895     0.0000     0.0041   \n",
       "\n",
       "   surrogate_mean_dem  surrogate_mean_nch_ln  surrogate_mean_ch  main_mean_ln  \\\n",
       "0              1.5621                 0.3142             0.0807        0.0039   \n",
       "1              0.1163                 0.3142             0.0807        0.0022   \n",
       "2              0.1187                 0.0978             0.0807        0.0028   \n",
       "3              1.2132                 1.0438             0.0807        0.0994   \n",
       "4              0.3070                 0.0978             0.0807        0.0000   \n",
       "\n",
       "   surrogate_mean_ch_ln  surrogate_mean_nch  \n",
       "0                0.0776              0.3691  \n",
       "1                0.0776              0.3691  \n",
       "2                0.0776              0.1027  \n",
       "3                0.0776              1.8399  \n",
       "4                0.0776              0.1027  "
      ],
      "text/html": [
       "<div>\n",
       "<style scoped>\n",
       "    .dataframe tbody tr th:only-of-type {\n",
       "        vertical-align: middle;\n",
       "    }\n",
       "\n",
       "    .dataframe tbody tr th {\n",
       "        vertical-align: top;\n",
       "    }\n",
       "\n",
       "    .dataframe thead th {\n",
       "        text-align: right;\n",
       "    }\n",
       "</style>\n",
       "<table border=\"1\" class=\"dataframe\">\n",
       "  <thead>\n",
       "    <tr style=\"text-align: right;\">\n",
       "      <th></th>\n",
       "      <th>country_id</th>\n",
       "      <th>month_id</th>\n",
       "      <th>name</th>\n",
       "      <th>gwcode</th>\n",
       "      <th>isoab</th>\n",
       "      <th>year</th>\n",
       "      <th>month</th>\n",
       "      <th>surrogate_mean_dem_ln</th>\n",
       "      <th>surrogate_mean_imr</th>\n",
       "      <th>surrogate_mean_pop_ln</th>\n",
       "      <th>surrogate_mean_imr_ln</th>\n",
       "      <th>surrogate_mean_pop</th>\n",
       "      <th>main_mean</th>\n",
       "      <th>main_dich</th>\n",
       "      <th>surrogate_mean_dem</th>\n",
       "      <th>surrogate_mean_nch_ln</th>\n",
       "      <th>surrogate_mean_ch</th>\n",
       "      <th>main_mean_ln</th>\n",
       "      <th>surrogate_mean_ch_ln</th>\n",
       "      <th>surrogate_mean_nch</th>\n",
       "    </tr>\n",
       "  </thead>\n",
       "  <tbody>\n",
       "    <tr>\n",
       "      <th>0</th>\n",
       "      <td>1</td>\n",
       "      <td>550</td>\n",
       "      <td>Guyana</td>\n",
       "      <td>110</td>\n",
       "      <td>GUY</td>\n",
       "      <td>2025</td>\n",
       "      <td>10</td>\n",
       "      <td>0.9408</td>\n",
       "      <td>0.8453</td>\n",
       "      <td>0.1036</td>\n",
       "      <td>0.6126</td>\n",
       "      <td>0.1092</td>\n",
       "      <td>0.0039</td>\n",
       "      <td>0.0041</td>\n",
       "      <td>1.5621</td>\n",
       "      <td>0.3142</td>\n",
       "      <td>0.0807</td>\n",
       "      <td>0.0039</td>\n",
       "      <td>0.0776</td>\n",
       "      <td>0.3691</td>\n",
       "    </tr>\n",
       "    <tr>\n",
       "      <th>1</th>\n",
       "      <td>2</td>\n",
       "      <td>550</td>\n",
       "      <td>Suriname</td>\n",
       "      <td>115</td>\n",
       "      <td>SUR</td>\n",
       "      <td>2025</td>\n",
       "      <td>10</td>\n",
       "      <td>0.1100</td>\n",
       "      <td>0.4405</td>\n",
       "      <td>0.0979</td>\n",
       "      <td>0.3650</td>\n",
       "      <td>0.1029</td>\n",
       "      <td>0.0022</td>\n",
       "      <td>0.0041</td>\n",
       "      <td>0.1163</td>\n",
       "      <td>0.3142</td>\n",
       "      <td>0.0807</td>\n",
       "      <td>0.0022</td>\n",
       "      <td>0.0776</td>\n",
       "      <td>0.3691</td>\n",
       "    </tr>\n",
       "    <tr>\n",
       "      <th>2</th>\n",
       "      <td>3</td>\n",
       "      <td>550</td>\n",
       "      <td>Trinidad and Tobago</td>\n",
       "      <td>52</td>\n",
       "      <td>TTO</td>\n",
       "      <td>2025</td>\n",
       "      <td>10</td>\n",
       "      <td>0.1121</td>\n",
       "      <td>0.5216</td>\n",
       "      <td>0.1193</td>\n",
       "      <td>0.4198</td>\n",
       "      <td>0.1267</td>\n",
       "      <td>0.0028</td>\n",
       "      <td>0.0041</td>\n",
       "      <td>0.1187</td>\n",
       "      <td>0.0978</td>\n",
       "      <td>0.0807</td>\n",
       "      <td>0.0028</td>\n",
       "      <td>0.0776</td>\n",
       "      <td>0.1027</td>\n",
       "    </tr>\n",
       "    <tr>\n",
       "      <th>3</th>\n",
       "      <td>4</td>\n",
       "      <td>550</td>\n",
       "      <td>Venezuela</td>\n",
       "      <td>101</td>\n",
       "      <td>VEN</td>\n",
       "      <td>2025</td>\n",
       "      <td>10</td>\n",
       "      <td>0.7944</td>\n",
       "      <td>0.7220</td>\n",
       "      <td>0.8116</td>\n",
       "      <td>0.5435</td>\n",
       "      <td>1.2515</td>\n",
       "      <td>0.1045</td>\n",
       "      <td>0.0049</td>\n",
       "      <td>1.2132</td>\n",
       "      <td>1.0438</td>\n",
       "      <td>0.0807</td>\n",
       "      <td>0.0994</td>\n",
       "      <td>0.0776</td>\n",
       "      <td>1.8399</td>\n",
       "    </tr>\n",
       "    <tr>\n",
       "      <th>4</th>\n",
       "      <td>5</td>\n",
       "      <td>550</td>\n",
       "      <td>Samoa</td>\n",
       "      <td>990</td>\n",
       "      <td>WSM</td>\n",
       "      <td>2025</td>\n",
       "      <td>10</td>\n",
       "      <td>0.2678</td>\n",
       "      <td>0.3522</td>\n",
       "      <td>0.0857</td>\n",
       "      <td>0.3018</td>\n",
       "      <td>0.0895</td>\n",
       "      <td>0.0000</td>\n",
       "      <td>0.0041</td>\n",
       "      <td>0.3070</td>\n",
       "      <td>0.0978</td>\n",
       "      <td>0.0807</td>\n",
       "      <td>0.0000</td>\n",
       "      <td>0.0776</td>\n",
       "      <td>0.1027</td>\n",
       "    </tr>\n",
       "  </tbody>\n",
       "</table>\n",
       "</div>"
      ]
     },
     "execution_count": 20,
     "metadata": {},
     "output_type": "execute_result"
    }
   ],
   "execution_count": 20
  },
  {
   "metadata": {},
   "cell_type": "markdown",
   "source": "Load codebook for understanding variable names:",
   "id": "71da7abdc69180bb"
  },
  {
   "metadata": {
    "ExecuteTime": {
     "end_time": "2025-09-05T08:50:01.229079Z",
     "start_time": "2025-09-05T08:50:01.184303Z"
    }
   },
   "cell_type": "code",
   "source": [
    "codebook_url = \"https://raw.githubusercontent.com/prio-data/views_api/refs/heads/master/Codebooks/fatalities002/codebook_fatalities002_forecasts.json\"\n",
    "response = requests.get(codebook_url)\n",
    "codebook = response.json()"
   ],
   "id": "ffb65a1a3baf9ac8",
   "outputs": [],
   "execution_count": 52
  },
  {
   "metadata": {
    "ExecuteTime": {
     "end_time": "2025-09-05T08:50:15.649030Z",
     "start_time": "2025-09-05T08:50:15.642195Z"
    }
   },
   "cell_type": "code",
   "source": "codebook[\"main_mean\"]",
   "id": "eb05b883565a56cf",
   "outputs": [
    {
     "data": {
      "text/plain": [
       "{'name': 'Predicted number of fatalities',\n",
       " 'description': 'Point prediction of the number of fatalities in impending conflict, presented per type of violence and level of analysis.',\n",
       " 'unit': {'unit_name': 'Fatalities',\n",
       "  'unit_type': 'Int',\n",
       "  'unit_range': '0 - unlimited'},\n",
       " 'original': 'sc_cm_{tv}_main',\n",
       " 'dev_id': 'fatalities002',\n",
       " 'model_type': 'Ensemble model',\n",
       " 'visualization': {'viz_main_legend': 'Predicted fatalities',\n",
       "  'viz_main_colormap': 'rainbow',\n",
       "  'viz_main_transformation': 'ln',\n",
       "  'viz_main_dictionary_cm': 'dictionary_stand_1p_10k',\n",
       "  'viz_main_dictionary_pgm': 'dictionary_stand_1p',\n",
       "  'viz_main_popup_transformation': 'N/A'}}"
      ]
     },
     "execution_count": 53,
     "metadata": {},
     "output_type": "execute_result"
    }
   ],
   "execution_count": 53
  }
 ],
 "metadata": {
  "kernelspec": {
   "display_name": "Python 3",
   "language": "python",
   "name": "python3"
  },
  "language_info": {
   "codemirror_mode": {
    "name": "ipython",
    "version": 2
   },
   "file_extension": ".py",
   "mimetype": "text/x-python",
   "name": "python",
   "nbconvert_exporter": "python",
   "pygments_lexer": "ipython2",
   "version": "2.7.6"
  }
 },
 "nbformat": 4,
 "nbformat_minor": 5
}
