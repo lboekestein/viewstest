{
 "cells": [
  {
   "metadata": {},
   "cell_type": "markdown",
   "source": "## Sandbox for Viewser, VIEWS API, etc.",
   "id": "cf4bfd85bc39de26"
  },
  {
   "metadata": {},
   "cell_type": "markdown",
   "source": "#### Basic test of Queryset",
   "id": "184c1ae95f810f92"
  },
  {
   "cell_type": "code",
   "id": "initial_id",
   "metadata": {
    "collapsed": true,
    "ExecuteTime": {
     "end_time": "2025-09-02T13:13:53.018633Z",
     "start_time": "2025-09-02T13:13:51.124064Z"
    }
   },
   "source": [
    "from viewser import Queryset, Column\n",
    "import matplotlib.pyplot as plt\n",
    "import numpy as np\n",
    "import pandas as pd"
   ],
   "outputs": [],
   "execution_count": 1
  },
  {
   "metadata": {},
   "cell_type": "markdown",
   "source": "Set up query",
   "id": "2f8175b90274008b"
  },
  {
   "metadata": {
    "ExecuteTime": {
     "end_time": "2025-09-02T13:19:54.335681Z",
     "start_time": "2025-09-02T13:19:54.331107Z"
    }
   },
   "cell_type": "code",
   "source": [
    "new_queryset = (Queryset(\"simple_conflict\", \"country_month\")\n",
    "           .with_column(Column(\"ged_sb\", from_loa=\"country_month\", from_column=\"ged_sb_best_sum_nokgi\")))"
   ],
   "id": "1786290cf81c3c64",
   "outputs": [],
   "execution_count": 6
  },
  {
   "metadata": {},
   "cell_type": "markdown",
   "source": "Publish the Query",
   "id": "bce56db235d7ff15"
  },
  {
   "metadata": {
    "ExecuteTime": {
     "end_time": "2025-09-02T13:21:11.780173Z",
     "start_time": "2025-09-02T13:21:11.753421Z"
    }
   },
   "cell_type": "code",
   "source": "data = new_queryset.publish()",
   "id": "777e768e08d1df82",
   "outputs": [],
   "execution_count": 7
  },
  {
   "metadata": {},
   "cell_type": "markdown",
   "source": "Fetch the Query",
   "id": "6db88bb47a705496"
  },
  {
   "metadata": {
    "ExecuteTime": {
     "end_time": "2025-09-02T13:21:35.216235Z",
     "start_time": "2025-09-02T13:21:19.931002Z"
    }
   },
   "cell_type": "code",
   "source": "data = new_queryset.fetch()",
   "id": "da0696d04182eff7",
   "outputs": [
    {
     "name": "stdout",
     "output_type": "stream",
     "text": [
      "Queryset simple_conflict read successfully                                            \n"
     ]
    }
   ],
   "execution_count": 8
  },
  {
   "metadata": {
    "ExecuteTime": {
     "end_time": "2025-09-02T13:25:18.653630Z",
     "start_time": "2025-09-02T13:25:18.643425Z"
    }
   },
   "cell_type": "code",
   "source": "data.head()",
   "id": "cab0a5d1e881be64",
   "outputs": [
    {
     "data": {
      "text/plain": [
       "                     ged_sb\n",
       "month_id country_id        \n",
       "1        1              NaN\n",
       "         2              NaN\n",
       "         3              NaN\n",
       "         4              NaN\n",
       "         5              NaN"
      ],
      "text/html": [
       "<div>\n",
       "<style scoped>\n",
       "    .dataframe tbody tr th:only-of-type {\n",
       "        vertical-align: middle;\n",
       "    }\n",
       "\n",
       "    .dataframe tbody tr th {\n",
       "        vertical-align: top;\n",
       "    }\n",
       "\n",
       "    .dataframe thead th {\n",
       "        text-align: right;\n",
       "    }\n",
       "</style>\n",
       "<table border=\"1\" class=\"dataframe\">\n",
       "  <thead>\n",
       "    <tr style=\"text-align: right;\">\n",
       "      <th></th>\n",
       "      <th></th>\n",
       "      <th>ged_sb</th>\n",
       "    </tr>\n",
       "    <tr>\n",
       "      <th>month_id</th>\n",
       "      <th>country_id</th>\n",
       "      <th></th>\n",
       "    </tr>\n",
       "  </thead>\n",
       "  <tbody>\n",
       "    <tr>\n",
       "      <th rowspan=\"5\" valign=\"top\">1</th>\n",
       "      <th>1</th>\n",
       "      <td>NaN</td>\n",
       "    </tr>\n",
       "    <tr>\n",
       "      <th>2</th>\n",
       "      <td>NaN</td>\n",
       "    </tr>\n",
       "    <tr>\n",
       "      <th>3</th>\n",
       "      <td>NaN</td>\n",
       "    </tr>\n",
       "    <tr>\n",
       "      <th>4</th>\n",
       "      <td>NaN</td>\n",
       "    </tr>\n",
       "    <tr>\n",
       "      <th>5</th>\n",
       "      <td>NaN</td>\n",
       "    </tr>\n",
       "  </tbody>\n",
       "</table>\n",
       "</div>"
      ]
     },
     "execution_count": 11,
     "metadata": {},
     "output_type": "execute_result"
    }
   ],
   "execution_count": 11
  },
  {
   "metadata": {},
   "cell_type": "markdown",
   "source": "More advanced Query",
   "id": "7ff7f4ae76c44514"
  },
  {
   "metadata": {
    "ExecuteTime": {
     "end_time": "2025-09-03T12:06:56.060265Z",
     "start_time": "2025-09-03T12:06:56.055271Z"
    }
   },
   "cell_type": "code",
   "source": [
    "adv_queryset = (Queryset(\"luuk_test_query\", \"country_year\")\n",
    "\n",
    "                .with_column(Column(\"sb_fat\", from_loa=\"country_month\",\n",
    "                                    from_column=\"ged_sb_best_sum_nokgi\")\n",
    "                             .aggregate('sum')\n",
    "                             .transform.missing.replace_na())\n",
    "\n",
    "                .with_column(Column(\"protests\", from_loa=\"country_month\",\n",
    "                                    from_column=\"acled_pr_count\")\n",
    "                             .aggregate('avg')\n",
    "                             .transform.missing.replace_na())\n",
    "                )"
   ],
   "id": "8331c3d85f2a44f5",
   "outputs": [],
   "execution_count": 21
  },
  {
   "metadata": {
    "ExecuteTime": {
     "end_time": "2025-09-03T12:07:13.617842Z",
     "start_time": "2025-09-03T12:06:58.425133Z"
    }
   },
   "cell_type": "code",
   "source": "data_adv = adv_queryset.publish().fetch()",
   "id": "6c9803e2d313ad93",
   "outputs": [
    {
     "name": "stdout",
     "output_type": "stream",
     "text": [
      "Queryset luuk_test_query read successfully                                             \n"
     ]
    }
   ],
   "execution_count": 22
  },
  {
   "metadata": {
    "ExecuteTime": {
     "end_time": "2025-09-03T12:07:16.910264Z",
     "start_time": "2025-09-03T12:07:16.896647Z"
    }
   },
   "cell_type": "code",
   "source": "data_adv.head()",
   "id": "6287ea71f2379b74",
   "outputs": [
    {
     "data": {
      "text/plain": [
       "                    sb_fat  protests\n",
       "year_id country_id                  \n",
       "1900    4              0.0       0.0\n",
       "        7              0.0       0.0\n",
       "        8              0.0       0.0\n",
       "        10             0.0       0.0\n",
       "        11             0.0       0.0"
      ],
      "text/html": [
       "<div>\n",
       "<style scoped>\n",
       "    .dataframe tbody tr th:only-of-type {\n",
       "        vertical-align: middle;\n",
       "    }\n",
       "\n",
       "    .dataframe tbody tr th {\n",
       "        vertical-align: top;\n",
       "    }\n",
       "\n",
       "    .dataframe thead th {\n",
       "        text-align: right;\n",
       "    }\n",
       "</style>\n",
       "<table border=\"1\" class=\"dataframe\">\n",
       "  <thead>\n",
       "    <tr style=\"text-align: right;\">\n",
       "      <th></th>\n",
       "      <th></th>\n",
       "      <th>sb_fat</th>\n",
       "      <th>protests</th>\n",
       "    </tr>\n",
       "    <tr>\n",
       "      <th>year_id</th>\n",
       "      <th>country_id</th>\n",
       "      <th></th>\n",
       "      <th></th>\n",
       "    </tr>\n",
       "  </thead>\n",
       "  <tbody>\n",
       "    <tr>\n",
       "      <th rowspan=\"5\" valign=\"top\">1900</th>\n",
       "      <th>4</th>\n",
       "      <td>0.0</td>\n",
       "      <td>0.0</td>\n",
       "    </tr>\n",
       "    <tr>\n",
       "      <th>7</th>\n",
       "      <td>0.0</td>\n",
       "      <td>0.0</td>\n",
       "    </tr>\n",
       "    <tr>\n",
       "      <th>8</th>\n",
       "      <td>0.0</td>\n",
       "      <td>0.0</td>\n",
       "    </tr>\n",
       "    <tr>\n",
       "      <th>10</th>\n",
       "      <td>0.0</td>\n",
       "      <td>0.0</td>\n",
       "    </tr>\n",
       "    <tr>\n",
       "      <th>11</th>\n",
       "      <td>0.0</td>\n",
       "      <td>0.0</td>\n",
       "    </tr>\n",
       "  </tbody>\n",
       "</table>\n",
       "</div>"
      ]
     },
     "execution_count": 23,
     "metadata": {},
     "output_type": "execute_result"
    }
   ],
   "execution_count": 23
  },
  {
   "metadata": {
    "ExecuteTime": {
     "end_time": "2025-09-03T12:11:30.000286Z",
     "start_time": "2025-09-03T12:11:23.854637Z"
    }
   },
   "cell_type": "code",
   "source": "data_fatalities = Queryset.from_storage(\"fatalities002_cm_conflict_history_stub\").fetch()",
   "id": "46682c84f852377c",
   "outputs": [
    {
     "name": "stderr",
     "output_type": "stream",
     "text": [
      "100%|██████████| 3.22M/3.22M [00:00<00:00, 54.3MB/s]\n"
     ]
    },
    {
     "name": "stdout",
     "output_type": "stream",
     "text": [
      "Queryset fatalities002_cm_conflict_history_stub read successfully \n"
     ]
    }
   ],
   "execution_count": 25
  },
  {
   "metadata": {
    "ExecuteTime": {
     "end_time": "2025-09-03T12:11:38.023988Z",
     "start_time": "2025-09-03T12:11:37.999667Z"
    }
   },
   "cell_type": "code",
   "source": "data_fatalities.head()",
   "id": "f46de674a438832b",
   "outputs": [
    {
     "data": {
      "text/plain": [
       "                     gleditsch_ward  ln_ged_ns  ln_ged_os  ln_acled_sb  \\\n",
       "month_id country_id                                                      \n",
       "1        1                      110        0.0        0.0          0.0   \n",
       "         2                      115        0.0        0.0          0.0   \n",
       "         3                       52        0.0        0.0          0.0   \n",
       "         4                      101        0.0        0.0          0.0   \n",
       "         5                      990        0.0        0.0          0.0   \n",
       "\n",
       "                     ln_acled_sb_count  ln_acled_os  ln_ged_sb_tlag_1  \\\n",
       "month_id country_id                                                     \n",
       "1        1                         0.0          0.0               0.0   \n",
       "         2                         0.0          0.0               0.0   \n",
       "         3                         0.0          0.0               0.0   \n",
       "         4                         0.0          0.0               0.0   \n",
       "         5                         0.0          0.0               0.0   \n",
       "\n",
       "                     ln_ged_sb_tlag_2  ln_ged_sb_tlag_3  ln_ged_sb_tlag_4  \\\n",
       "month_id country_id                                                         \n",
       "1        1                        0.0               0.0               0.0   \n",
       "         2                        0.0               0.0               0.0   \n",
       "         3                        0.0               0.0               0.0   \n",
       "         4                        0.0               0.0               0.0   \n",
       "         5                        0.0               0.0               0.0   \n",
       "\n",
       "                     ...  decay_ged_sb_100  decay_ged_sb_500  \\\n",
       "month_id country_id  ...                                       \n",
       "1        1           ...               0.0               0.0   \n",
       "         2           ...               0.0               0.0   \n",
       "         3           ...               0.0               0.0   \n",
       "         4           ...               0.0               0.0   \n",
       "         5           ...               0.0               0.0   \n",
       "\n",
       "                     decay_ged_os_100  decay_ged_ns_5  decay_ged_ns_100  \\\n",
       "month_id country_id                                                       \n",
       "1        1                        0.0             0.0               0.0   \n",
       "         2                        0.0             0.0               0.0   \n",
       "         3                        0.0             0.0               0.0   \n",
       "         4                        0.0             0.0               0.0   \n",
       "         5                        0.0             0.0               0.0   \n",
       "\n",
       "                     decay_acled_sb_5  decay_acled_os_5  decay_acled_ns_5  \\\n",
       "month_id country_id                                                         \n",
       "1        1                        0.0               0.0               0.0   \n",
       "         2                        0.0               0.0               0.0   \n",
       "         3                        0.0               0.0               0.0   \n",
       "         4                        0.0               0.0               0.0   \n",
       "         5                        0.0               0.0               0.0   \n",
       "\n",
       "                     splag_1_decay_ged_os_5  splag_1_decay_ged_ns_5  \n",
       "month_id country_id                                                  \n",
       "1        1                              0.0                     0.0  \n",
       "         2                              0.0                     0.0  \n",
       "         3                              0.0                     0.0  \n",
       "         4                              0.0                     0.0  \n",
       "         5                              0.0                     0.0  \n",
       "\n",
       "[5 rows x 24 columns]"
      ],
      "text/html": [
       "<div>\n",
       "<style scoped>\n",
       "    .dataframe tbody tr th:only-of-type {\n",
       "        vertical-align: middle;\n",
       "    }\n",
       "\n",
       "    .dataframe tbody tr th {\n",
       "        vertical-align: top;\n",
       "    }\n",
       "\n",
       "    .dataframe thead th {\n",
       "        text-align: right;\n",
       "    }\n",
       "</style>\n",
       "<table border=\"1\" class=\"dataframe\">\n",
       "  <thead>\n",
       "    <tr style=\"text-align: right;\">\n",
       "      <th></th>\n",
       "      <th></th>\n",
       "      <th>gleditsch_ward</th>\n",
       "      <th>ln_ged_ns</th>\n",
       "      <th>ln_ged_os</th>\n",
       "      <th>ln_acled_sb</th>\n",
       "      <th>ln_acled_sb_count</th>\n",
       "      <th>ln_acled_os</th>\n",
       "      <th>ln_ged_sb_tlag_1</th>\n",
       "      <th>ln_ged_sb_tlag_2</th>\n",
       "      <th>ln_ged_sb_tlag_3</th>\n",
       "      <th>ln_ged_sb_tlag_4</th>\n",
       "      <th>...</th>\n",
       "      <th>decay_ged_sb_100</th>\n",
       "      <th>decay_ged_sb_500</th>\n",
       "      <th>decay_ged_os_100</th>\n",
       "      <th>decay_ged_ns_5</th>\n",
       "      <th>decay_ged_ns_100</th>\n",
       "      <th>decay_acled_sb_5</th>\n",
       "      <th>decay_acled_os_5</th>\n",
       "      <th>decay_acled_ns_5</th>\n",
       "      <th>splag_1_decay_ged_os_5</th>\n",
       "      <th>splag_1_decay_ged_ns_5</th>\n",
       "    </tr>\n",
       "    <tr>\n",
       "      <th>month_id</th>\n",
       "      <th>country_id</th>\n",
       "      <th></th>\n",
       "      <th></th>\n",
       "      <th></th>\n",
       "      <th></th>\n",
       "      <th></th>\n",
       "      <th></th>\n",
       "      <th></th>\n",
       "      <th></th>\n",
       "      <th></th>\n",
       "      <th></th>\n",
       "      <th></th>\n",
       "      <th></th>\n",
       "      <th></th>\n",
       "      <th></th>\n",
       "      <th></th>\n",
       "      <th></th>\n",
       "      <th></th>\n",
       "      <th></th>\n",
       "      <th></th>\n",
       "      <th></th>\n",
       "      <th></th>\n",
       "    </tr>\n",
       "  </thead>\n",
       "  <tbody>\n",
       "    <tr>\n",
       "      <th rowspan=\"5\" valign=\"top\">1</th>\n",
       "      <th>1</th>\n",
       "      <td>110</td>\n",
       "      <td>0.0</td>\n",
       "      <td>0.0</td>\n",
       "      <td>0.0</td>\n",
       "      <td>0.0</td>\n",
       "      <td>0.0</td>\n",
       "      <td>0.0</td>\n",
       "      <td>0.0</td>\n",
       "      <td>0.0</td>\n",
       "      <td>0.0</td>\n",
       "      <td>...</td>\n",
       "      <td>0.0</td>\n",
       "      <td>0.0</td>\n",
       "      <td>0.0</td>\n",
       "      <td>0.0</td>\n",
       "      <td>0.0</td>\n",
       "      <td>0.0</td>\n",
       "      <td>0.0</td>\n",
       "      <td>0.0</td>\n",
       "      <td>0.0</td>\n",
       "      <td>0.0</td>\n",
       "    </tr>\n",
       "    <tr>\n",
       "      <th>2</th>\n",
       "      <td>115</td>\n",
       "      <td>0.0</td>\n",
       "      <td>0.0</td>\n",
       "      <td>0.0</td>\n",
       "      <td>0.0</td>\n",
       "      <td>0.0</td>\n",
       "      <td>0.0</td>\n",
       "      <td>0.0</td>\n",
       "      <td>0.0</td>\n",
       "      <td>0.0</td>\n",
       "      <td>...</td>\n",
       "      <td>0.0</td>\n",
       "      <td>0.0</td>\n",
       "      <td>0.0</td>\n",
       "      <td>0.0</td>\n",
       "      <td>0.0</td>\n",
       "      <td>0.0</td>\n",
       "      <td>0.0</td>\n",
       "      <td>0.0</td>\n",
       "      <td>0.0</td>\n",
       "      <td>0.0</td>\n",
       "    </tr>\n",
       "    <tr>\n",
       "      <th>3</th>\n",
       "      <td>52</td>\n",
       "      <td>0.0</td>\n",
       "      <td>0.0</td>\n",
       "      <td>0.0</td>\n",
       "      <td>0.0</td>\n",
       "      <td>0.0</td>\n",
       "      <td>0.0</td>\n",
       "      <td>0.0</td>\n",
       "      <td>0.0</td>\n",
       "      <td>0.0</td>\n",
       "      <td>...</td>\n",
       "      <td>0.0</td>\n",
       "      <td>0.0</td>\n",
       "      <td>0.0</td>\n",
       "      <td>0.0</td>\n",
       "      <td>0.0</td>\n",
       "      <td>0.0</td>\n",
       "      <td>0.0</td>\n",
       "      <td>0.0</td>\n",
       "      <td>0.0</td>\n",
       "      <td>0.0</td>\n",
       "    </tr>\n",
       "    <tr>\n",
       "      <th>4</th>\n",
       "      <td>101</td>\n",
       "      <td>0.0</td>\n",
       "      <td>0.0</td>\n",
       "      <td>0.0</td>\n",
       "      <td>0.0</td>\n",
       "      <td>0.0</td>\n",
       "      <td>0.0</td>\n",
       "      <td>0.0</td>\n",
       "      <td>0.0</td>\n",
       "      <td>0.0</td>\n",
       "      <td>...</td>\n",
       "      <td>0.0</td>\n",
       "      <td>0.0</td>\n",
       "      <td>0.0</td>\n",
       "      <td>0.0</td>\n",
       "      <td>0.0</td>\n",
       "      <td>0.0</td>\n",
       "      <td>0.0</td>\n",
       "      <td>0.0</td>\n",
       "      <td>0.0</td>\n",
       "      <td>0.0</td>\n",
       "    </tr>\n",
       "    <tr>\n",
       "      <th>5</th>\n",
       "      <td>990</td>\n",
       "      <td>0.0</td>\n",
       "      <td>0.0</td>\n",
       "      <td>0.0</td>\n",
       "      <td>0.0</td>\n",
       "      <td>0.0</td>\n",
       "      <td>0.0</td>\n",
       "      <td>0.0</td>\n",
       "      <td>0.0</td>\n",
       "      <td>0.0</td>\n",
       "      <td>...</td>\n",
       "      <td>0.0</td>\n",
       "      <td>0.0</td>\n",
       "      <td>0.0</td>\n",
       "      <td>0.0</td>\n",
       "      <td>0.0</td>\n",
       "      <td>0.0</td>\n",
       "      <td>0.0</td>\n",
       "      <td>0.0</td>\n",
       "      <td>0.0</td>\n",
       "      <td>0.0</td>\n",
       "    </tr>\n",
       "  </tbody>\n",
       "</table>\n",
       "<p>5 rows × 24 columns</p>\n",
       "</div>"
      ]
     },
     "execution_count": 26,
     "metadata": {},
     "output_type": "execute_result"
    }
   ],
   "execution_count": 26
  }
 ],
 "metadata": {
  "kernelspec": {
   "display_name": "Python 3",
   "language": "python",
   "name": "python3"
  },
  "language_info": {
   "codemirror_mode": {
    "name": "ipython",
    "version": 2
   },
   "file_extension": ".py",
   "mimetype": "text/x-python",
   "name": "python",
   "nbconvert_exporter": "python",
   "pygments_lexer": "ipython2",
   "version": "2.7.6"
  }
 },
 "nbformat": 4,
 "nbformat_minor": 5
}
