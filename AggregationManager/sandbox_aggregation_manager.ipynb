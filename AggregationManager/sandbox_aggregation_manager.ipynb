{
 "cells": [
  {
   "metadata": {},
   "cell_type": "markdown",
   "source": "# Sandbox for Support Distribution Aggregation #41",
   "id": "add0519a32c3cfd3"
  },
  {
   "metadata": {
    "ExecuteTime": {
     "end_time": "2025-09-10T09:55:51.703595Z",
     "start_time": "2025-09-10T09:55:51.700570Z"
    }
   },
   "cell_type": "code",
   "source": [
    "import polars as pl\n",
    "import pandas as pd\n",
    "import numpy as np\n",
    "\n",
    "import importlib"
   ],
   "id": "fa7c70849a4849d0",
   "outputs": [],
   "execution_count": 18
  },
  {
   "metadata": {},
   "cell_type": "markdown",
   "source": "import AggregationManager with force reload",
   "id": "6921ad7fb42c62d2"
  },
  {
   "metadata": {
    "ExecuteTime": {
     "end_time": "2025-09-10T11:07:58.185648Z",
     "start_time": "2025-09-10T11:07:58.174856Z"
    }
   },
   "cell_type": "code",
   "source": [
    "import aggregation\n",
    "importlib.reload(aggregation)\n",
    "from aggregation import AggregationManager"
   ],
   "id": "b7b4f03dafb39d19",
   "outputs": [],
   "execution_count": 26
  },
  {
   "metadata": {},
   "cell_type": "markdown",
   "source": "test with basic dataframes",
   "id": "42fbc9a94fc569b4"
  },
  {
   "metadata": {
    "ExecuteTime": {
     "end_time": "2025-09-10T11:08:33.878721Z",
     "start_time": "2025-09-10T11:08:33.863112Z"
    }
   },
   "cell_type": "code",
   "source": [
    "manager = AggregationManager(\n",
    "    index_cols=['time', 'entity_id'],\n",
    "    target_cols=['conflict_prob', 'death_count']\n",
    ")\n",
    "\n",
    "pdf = pl.DataFrame({\n",
    "    \"time\": [1, 1],\n",
    "    \"entity_id\": [1, 2],\n",
    "    \"conflict_prob\": pl.Series(\"conflict_prob\", [[0.1, 0.2], [0.3, 0.4]], dtype=pl.List(pl.Float64)),\n",
    "    \"death_count\": pl.Series(\"death_count\", [[0.5, 0.6], [0.7, 0.8]], dtype=pl.List(pl.Float64))\n",
    "})\n",
    "\n",
    "pdf_pd = pd.DataFrame({\n",
    "    \"time\": [1, 1],\n",
    "    \"entity_id\": [1, 2],\n",
    "    \"conflict_prob\": [[0.1, 0.2], [0.3, 0.4]],\n",
    "    \"death_count\": [[0.5, 0.6], [0.7, 0.8]]\n",
    "})\n",
    "\n",
    "manager.add_model(pdf)\n",
    "manager.add_model(pdf_pd)"
   ],
   "id": "c2d8f78d7caafb0",
   "outputs": [],
   "execution_count": 29
  },
  {
   "metadata": {},
   "cell_type": "markdown",
   "source": "Check basic add_model behaviour",
   "id": "ce7ad03a9e58b8c5"
  },
  {
   "metadata": {
    "ExecuteTime": {
     "end_time": "2025-09-10T09:55:51.738826Z",
     "start_time": "2025-09-10T09:55:51.735533Z"
    }
   },
   "cell_type": "code",
   "source": "manager.models",
   "id": "9f71a311d6c0af9d",
   "outputs": [
    {
     "data": {
      "text/plain": [
       "[shape: (2, 4)\n",
       " ┌──────┬───────────┬───────────────┬─────────────┐\n",
       " │ time ┆ entity_id ┆ conflict_prob ┆ death_count │\n",
       " │ ---  ┆ ---       ┆ ---           ┆ ---         │\n",
       " │ i64  ┆ i64       ┆ list[f64]     ┆ list[f64]   │\n",
       " ╞══════╪═══════════╪═══════════════╪═════════════╡\n",
       " │ 1    ┆ 1         ┆ [0.1, 0.2]    ┆ [0.5, 0.6]  │\n",
       " │ 1    ┆ 2         ┆ [0.3, 0.4]    ┆ [0.7, 0.8]  │\n",
       " └──────┴───────────┴───────────────┴─────────────┘,\n",
       " shape: (2, 4)\n",
       " ┌──────┬───────────┬───────────────┬─────────────┐\n",
       " │ time ┆ entity_id ┆ conflict_prob ┆ death_count │\n",
       " │ ---  ┆ ---       ┆ ---           ┆ ---         │\n",
       " │ i64  ┆ i64       ┆ list[f64]     ┆ list[f64]   │\n",
       " ╞══════╪═══════════╪═══════════════╪═════════════╡\n",
       " │ 1    ┆ 1         ┆ [0.1, 0.2]    ┆ [0.5, 0.6]  │\n",
       " │ 1    ┆ 2         ┆ [0.3, 0.4]    ┆ [0.7, 0.8]  │\n",
       " └──────┴───────────┴───────────────┴─────────────┘]"
      ]
     },
     "execution_count": 21,
     "metadata": {},
     "output_type": "execute_result"
    }
   ],
   "execution_count": 21
  },
  {
   "metadata": {},
   "cell_type": "markdown",
   "source": "Test with path to parquet file:",
   "id": "36b106ef46a6cd83"
  },
  {
   "metadata": {
    "ExecuteTime": {
     "end_time": "2025-09-10T09:55:51.777867Z",
     "start_time": "2025-09-10T09:55:51.753583Z"
    }
   },
   "cell_type": "code",
   "source": [
    "test_parquet_path = \"data/predictions_forecasting_20250807.parquet\"\n",
    "test_parquet = pl.read_parquet(test_parquet_path)\n",
    "test_parquet.head()"
   ],
   "id": "48b59bf1df1a1b19",
   "outputs": [
    {
     "data": {
      "text/plain": [
       "shape: (5, 3)\n",
       "┌────────────────────┬──────────┬────────────┐\n",
       "│ pred_ln_ged_sb_dep ┆ month_id ┆ country_id │\n",
       "│ ---                ┆ ---      ┆ ---        │\n",
       "│ list[f64]          ┆ i64      ┆ i64        │\n",
       "╞════════════════════╪══════════╪════════════╡\n",
       "│ [0.000706]         ┆ 547      ┆ 1          │\n",
       "│ [0.00158]          ┆ 547      ┆ 2          │\n",
       "│ [0.072077]         ┆ 547      ┆ 3          │\n",
       "│ [0.011363]         ┆ 547      ┆ 4          │\n",
       "│ [0.001575]         ┆ 547      ┆ 5          │\n",
       "└────────────────────┴──────────┴────────────┘"
      ],
      "text/html": [
       "<div><style>\n",
       ".dataframe > thead > tr,\n",
       ".dataframe > tbody > tr {\n",
       "  text-align: right;\n",
       "  white-space: pre-wrap;\n",
       "}\n",
       "</style>\n",
       "<small>shape: (5, 3)</small><table border=\"1\" class=\"dataframe\"><thead><tr><th>pred_ln_ged_sb_dep</th><th>month_id</th><th>country_id</th></tr><tr><td>list[f64]</td><td>i64</td><td>i64</td></tr></thead><tbody><tr><td>[0.000706]</td><td>547</td><td>1</td></tr><tr><td>[0.00158]</td><td>547</td><td>2</td></tr><tr><td>[0.072077]</td><td>547</td><td>3</td></tr><tr><td>[0.011363]</td><td>547</td><td>4</td></tr><tr><td>[0.001575]</td><td>547</td><td>5</td></tr></tbody></table></div>"
      ]
     },
     "execution_count": 22,
     "metadata": {},
     "output_type": "execute_result"
    }
   ],
   "execution_count": 22
  },
  {
   "metadata": {},
   "cell_type": "markdown",
   "source": "",
   "id": "2e834292c2f988a0"
  },
  {
   "metadata": {
    "ExecuteTime": {
     "end_time": "2025-09-10T09:55:51.790380Z",
     "start_time": "2025-09-10T09:55:51.787256Z"
    }
   },
   "cell_type": "code",
   "source": [
    "pq_manager = AggregationManager(\n",
    "    index_cols=['month_id', 'country_id'],\n",
    "    target_cols=['pred_ln_ged_sb_dep']\n",
    ")\n",
    "\n",
    "pq_manager.add_model(test_parquet)"
   ],
   "id": "cd8314396b046dc2",
   "outputs": [],
   "execution_count": 23
  },
  {
   "metadata": {
    "ExecuteTime": {
     "end_time": "2025-09-10T09:55:51.798102Z",
     "start_time": "2025-09-10T09:55:51.794526Z"
    }
   },
   "cell_type": "code",
   "source": "pq_manager.models",
   "id": "7d36a9ad3c60f95a",
   "outputs": [
    {
     "data": {
      "text/plain": [
       "[shape: (6_876, 3)\n",
       " ┌──────────┬────────────┬────────────────────┐\n",
       " │ month_id ┆ country_id ┆ pred_ln_ged_sb_dep │\n",
       " │ ---      ┆ ---        ┆ ---                │\n",
       " │ i64      ┆ i64        ┆ list[f64]          │\n",
       " ╞══════════╪════════════╪════════════════════╡\n",
       " │ 547      ┆ 1          ┆ [0.000706]         │\n",
       " │ 547      ┆ 2          ┆ [0.00158]          │\n",
       " │ 547      ┆ 3          ┆ [0.072077]         │\n",
       " │ 547      ┆ 4          ┆ [0.011363]         │\n",
       " │ 547      ┆ 5          ┆ [0.001575]         │\n",
       " │ …        ┆ …          ┆ …                  │\n",
       " │ 582      ┆ 242        ┆ [0.327009]         │\n",
       " │ 582      ┆ 243        ┆ [0.229127]         │\n",
       " │ 582      ┆ 244        ┆ [0.16187]          │\n",
       " │ 582      ┆ 245        ┆ [4.861599]         │\n",
       " │ 582      ┆ 246        ┆ [2.111845]         │\n",
       " └──────────┴────────────┴────────────────────┘]"
      ]
     },
     "execution_count": 24,
     "metadata": {},
     "output_type": "execute_result"
    }
   ],
   "execution_count": 24
  },
  {
   "metadata": {},
   "cell_type": "markdown",
   "source": "Sample with invalid dataframe:",
   "id": "3b343ecc926d8870"
  },
  {
   "metadata": {
    "ExecuteTime": {
     "end_time": "2025-09-09T14:33:05.987355Z",
     "start_time": "2025-09-09T14:33:05.924571Z"
    }
   },
   "cell_type": "code",
   "source": [
    "pdf_test = pd.DataFrame({\n",
    "    \"time\": [1, 1],\n",
    "    \"entity_id\": [\"dsf\", \"sdf\"],\n",
    "    \"conflict_prob\": [[0.5, 0.6], [0.7, 0.8]],\n",
    "    \"death_count\": [[0.5, 0.6], [0.7, 0.8]]\n",
    "})\n",
    "\n",
    "manager.add_model(pdf_test)"
   ],
   "id": "4543dc84f0e13fd",
   "outputs": [
    {
     "ename": "TypeError",
     "evalue": "Index column 'entity_id' must be integer, got String",
     "output_type": "error",
     "traceback": [
      "\u001B[0;31m---------------------------------------------------------------------------\u001B[0m",
      "\u001B[0;31mTypeError\u001B[0m                                 Traceback (most recent call last)",
      "Cell \u001B[0;32mIn[12], line 8\u001B[0m\n\u001B[1;32m      1\u001B[0m pdf_test \u001B[38;5;241m=\u001B[39m pd\u001B[38;5;241m.\u001B[39mDataFrame({\n\u001B[1;32m      2\u001B[0m     \u001B[38;5;124m\"\u001B[39m\u001B[38;5;124mtime\u001B[39m\u001B[38;5;124m\"\u001B[39m: [\u001B[38;5;241m1\u001B[39m, \u001B[38;5;241m1\u001B[39m],\n\u001B[1;32m      3\u001B[0m     \u001B[38;5;124m\"\u001B[39m\u001B[38;5;124mentity_id\u001B[39m\u001B[38;5;124m\"\u001B[39m: [\u001B[38;5;124m\"\u001B[39m\u001B[38;5;124mdsf\u001B[39m\u001B[38;5;124m\"\u001B[39m, \u001B[38;5;124m\"\u001B[39m\u001B[38;5;124msdf\u001B[39m\u001B[38;5;124m\"\u001B[39m],\n\u001B[1;32m      4\u001B[0m     \u001B[38;5;124m\"\u001B[39m\u001B[38;5;124mconflict_prob\u001B[39m\u001B[38;5;124m\"\u001B[39m: [[\u001B[38;5;241m0.5\u001B[39m, \u001B[38;5;241m0.6\u001B[39m], [\u001B[38;5;241m0.7\u001B[39m, \u001B[38;5;241m0.8\u001B[39m]],\n\u001B[1;32m      5\u001B[0m     \u001B[38;5;124m\"\u001B[39m\u001B[38;5;124mdeath_count\u001B[39m\u001B[38;5;124m\"\u001B[39m: [[\u001B[38;5;241m0.5\u001B[39m, \u001B[38;5;241m0.6\u001B[39m], [\u001B[38;5;241m0.7\u001B[39m, \u001B[38;5;241m0.8\u001B[39m]]\n\u001B[1;32m      6\u001B[0m })\n\u001B[0;32m----> 8\u001B[0m \u001B[43mmanager\u001B[49m\u001B[38;5;241;43m.\u001B[39;49m\u001B[43madd_model\u001B[49m\u001B[43m(\u001B[49m\u001B[43mpdf_test\u001B[49m\u001B[43m)\u001B[49m\n",
      "File \u001B[0;32m~/PycharmProjects/views/AggregationManager/aggregation.py:83\u001B[0m, in \u001B[0;36mAggregationManager.add_model\u001B[0;34m(self, data)\u001B[0m\n\u001B[1;32m     81\u001B[0m \u001B[38;5;28;01mfor\u001B[39;00m col \u001B[38;5;129;01min\u001B[39;00m \u001B[38;5;28mself\u001B[39m\u001B[38;5;241m.\u001B[39mindex_cols:\n\u001B[1;32m     82\u001B[0m     \u001B[38;5;28;01mif\u001B[39;00m \u001B[38;5;129;01mnot\u001B[39;00m \u001B[38;5;28misinstance\u001B[39m(df[col]\u001B[38;5;241m.\u001B[39mdtype, pl\u001B[38;5;241m.\u001B[39mdatatypes\u001B[38;5;241m.\u001B[39mIntegerType):\n\u001B[0;32m---> 83\u001B[0m         \u001B[38;5;28;01mraise\u001B[39;00m \u001B[38;5;167;01mTypeError\u001B[39;00m(\u001B[38;5;124mf\u001B[39m\u001B[38;5;124m\"\u001B[39m\u001B[38;5;124mIndex column \u001B[39m\u001B[38;5;124m'\u001B[39m\u001B[38;5;132;01m{\u001B[39;00mcol\u001B[38;5;132;01m}\u001B[39;00m\u001B[38;5;124m'\u001B[39m\u001B[38;5;124m must be integer, got \u001B[39m\u001B[38;5;132;01m{\u001B[39;00mdf[col]\u001B[38;5;241m.\u001B[39mdtype\u001B[38;5;132;01m}\u001B[39;00m\u001B[38;5;124m\"\u001B[39m)\n\u001B[1;32m     84\u001B[0m \u001B[38;5;28;01mfor\u001B[39;00m col \u001B[38;5;129;01min\u001B[39;00m \u001B[38;5;28mself\u001B[39m\u001B[38;5;241m.\u001B[39mtarget_cols:\n\u001B[1;32m     85\u001B[0m     \u001B[38;5;28;01mif\u001B[39;00m \u001B[38;5;129;01mnot\u001B[39;00m \u001B[38;5;28misinstance\u001B[39m(df[col]\u001B[38;5;241m.\u001B[39mdtype, pl\u001B[38;5;241m.\u001B[39mdatatypes\u001B[38;5;241m.\u001B[39mList):\n",
      "\u001B[0;31mTypeError\u001B[0m: Index column 'entity_id' must be integer, got String"
     ]
    }
   ],
   "execution_count": 12
  },
  {
   "metadata": {
    "ExecuteTime": {
     "end_time": "2025-09-10T11:08:41.055254Z",
     "start_time": "2025-09-10T11:08:41.020375Z"
    }
   },
   "cell_type": "code",
   "source": "manager.aggregate_point_predictions(\"hello\")",
   "id": "a185b5c1d235bdc1",
   "outputs": [
    {
     "ename": "ValueError",
     "evalue": "Unsupported aggregation function: hello, must be one of 'mean', 'median', 'min', 'max' or custum aggregation function of form Callable[[pl.Series], float]",
     "output_type": "error",
     "traceback": [
      "\u001B[0;31m---------------------------------------------------------------------------\u001B[0m",
      "\u001B[0;31mValueError\u001B[0m                                Traceback (most recent call last)",
      "Cell \u001B[0;32mIn[30], line 1\u001B[0m\n\u001B[0;32m----> 1\u001B[0m \u001B[43mmanager\u001B[49m\u001B[38;5;241;43m.\u001B[39;49m\u001B[43maggregate_point_predictions\u001B[49m\u001B[43m(\u001B[49m\u001B[38;5;124;43m\"\u001B[39;49m\u001B[38;5;124;43mhello\u001B[39;49m\u001B[38;5;124;43m\"\u001B[39;49m\u001B[43m)\u001B[49m\n",
      "File \u001B[0;32m~/PycharmProjects/views/AggregationManager/aggregation.py:179\u001B[0m, in \u001B[0;36mAggregationManager.aggregate_point_predictions\u001B[0;34m(self, aggregation_func, use_weights)\u001B[0m\n\u001B[1;32m    177\u001B[0m     aggregation_func \u001B[38;5;241m=\u001B[39m aggregation_func\n\u001B[1;32m    178\u001B[0m \u001B[38;5;28;01melse\u001B[39;00m:\n\u001B[0;32m--> 179\u001B[0m     \u001B[38;5;28;01mraise\u001B[39;00m \u001B[38;5;167;01mValueError\u001B[39;00m(\u001B[38;5;124mf\u001B[39m\u001B[38;5;124m\"\u001B[39m\u001B[38;5;124mUnsupported aggregation function: \u001B[39m\u001B[38;5;132;01m{\u001B[39;00maggregation_func\u001B[38;5;132;01m}\u001B[39;00m\u001B[38;5;124m, must be one of \u001B[39m\u001B[38;5;124m'\u001B[39m\u001B[38;5;124mmean\u001B[39m\u001B[38;5;124m'\u001B[39m\u001B[38;5;124m, \u001B[39m\u001B[38;5;124m'\u001B[39m\u001B[38;5;124mmedian\u001B[39m\u001B[38;5;124m'\u001B[39m\u001B[38;5;124m, \u001B[39m\u001B[38;5;124m\"\u001B[39m\n\u001B[1;32m    180\u001B[0m                      \u001B[38;5;124mf\u001B[39m\u001B[38;5;124m\"\u001B[39m\u001B[38;5;124m'\u001B[39m\u001B[38;5;124mmin\u001B[39m\u001B[38;5;124m'\u001B[39m\u001B[38;5;124m, \u001B[39m\u001B[38;5;124m'\u001B[39m\u001B[38;5;124mmax\u001B[39m\u001B[38;5;124m'\u001B[39m\u001B[38;5;124m or custum aggregation function of form Callable[[pl.Series], float]\u001B[39m\u001B[38;5;124m\"\u001B[39m)\n\u001B[1;32m    183\u001B[0m \u001B[38;5;66;03m# TODO Implementation here\u001B[39;00m\n\u001B[1;32m    185\u001B[0m \u001B[38;5;28;01mpass\u001B[39;00m\n",
      "\u001B[0;31mValueError\u001B[0m: Unsupported aggregation function: hello, must be one of 'mean', 'median', 'min', 'max' or custum aggregation function of form Callable[[pl.Series], float]"
     ]
    }
   ],
   "execution_count": 30
  }
 ],
 "metadata": {
  "kernelspec": {
   "name": "python3",
   "language": "python",
   "display_name": "Python 3 (ipykernel)"
  }
 },
 "nbformat": 4,
 "nbformat_minor": 5
}
