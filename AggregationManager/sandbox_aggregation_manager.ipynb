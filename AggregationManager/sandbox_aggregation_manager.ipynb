{
 "cells": [
  {
   "metadata": {},
   "cell_type": "markdown",
   "source": "# Sandbox for Support Distribution Aggregation #41",
   "id": "add0519a32c3cfd3"
  },
  {
   "metadata": {
    "ExecuteTime": {
     "end_time": "2025-09-11T08:42:19.043697Z",
     "start_time": "2025-09-11T08:42:19.040584Z"
    }
   },
   "cell_type": "code",
   "source": [
    "import polars as pl\n",
    "import pandas as pd\n",
    "import numpy as np\n",
    "from functools import reduce\n",
    "\n",
    "import importlib\n",
    "import matplotlib.pyplot as plt\n"
   ],
   "id": "fa7c70849a4849d0",
   "outputs": [],
   "execution_count": 99
  },
  {
   "metadata": {},
   "cell_type": "markdown",
   "source": "import AggregationManager with force reload",
   "id": "6921ad7fb42c62d2"
  },
  {
   "metadata": {
    "ExecuteTime": {
     "end_time": "2025-09-11T08:43:59.855017Z",
     "start_time": "2025-09-11T08:43:59.849095Z"
    }
   },
   "cell_type": "code",
   "source": [
    "import aggregation\n",
    "importlib.reload(aggregation)\n",
    "from aggregation import AggregationManager"
   ],
   "id": "b7b4f03dafb39d19",
   "outputs": [],
   "execution_count": 110
  },
  {
   "metadata": {},
   "cell_type": "markdown",
   "source": "Test of basic pipeline:",
   "id": "42fbc9a94fc569b4"
  },
  {
   "metadata": {
    "ExecuteTime": {
     "end_time": "2025-09-11T10:01:34.247158Z",
     "start_time": "2025-09-11T10:01:34.231920Z"
    }
   },
   "cell_type": "code",
   "source": [
    "manager = AggregationManager(\n",
    "    index_cols=['time', 'entity_id'],\n",
    "    target_cols=['conflict_prob', 'death_count'],\n",
    "    weights=[0.3, 0.8]\n",
    ")\n",
    "\n",
    "pdf = pl.DataFrame({\n",
    "    \"time\": [1, 1],\n",
    "    \"entity_id\": [1, 2],\n",
    "    \"conflict_prob\": pl.Series(\"conflict_prob\", [[0.1, 0.2], [0.3, 0.4]], dtype=pl.List(pl.Float64)),\n",
    "    \"death_count\": pl.Series(\"death_count\", [[0.5, 0.6], [0.7, 0.8]], dtype=pl.List(pl.Float64))\n",
    "})\n",
    "\n",
    "pdf_pd = pd.DataFrame({\n",
    "    \"time\": [1, 1],\n",
    "    \"entity_id\": [1, 2],\n",
    "    \"conflict_prob\": [[0.1, 0.2], [0.3, 0.4]],\n",
    "    \"death_count\": [[0.5, 0.6], [0.7, 0.8]]\n",
    "})\n",
    "\n",
    "manager.add_model(pdf)\n",
    "manager.add_model(pdf_pd)\n",
    "\n",
    "print(manager.models)\n",
    "\n",
    "ensemble_distributions = manager.aggregate_distributions(\"weighted\", n_samples=100)\n",
    "\n",
    "print(ensemble_distributions)\n",
    "\n",
    "point_predictions = manager.aggregate_point_predictions()\n",
    "\n",
    "print(point_predictions)"
   ],
   "id": "c2d8f78d7caafb0",
   "outputs": [
    {
     "name": "stdout",
     "output_type": "stream",
     "text": [
      "[shape: (2, 4)\n",
      "┌──────┬───────────┬───────────────┬─────────────┐\n",
      "│ time ┆ entity_id ┆ conflict_prob ┆ death_count │\n",
      "│ ---  ┆ ---       ┆ ---           ┆ ---         │\n",
      "│ i64  ┆ i64       ┆ list[f64]     ┆ list[f64]   │\n",
      "╞══════╪═══════════╪═══════════════╪═════════════╡\n",
      "│ 1    ┆ 1         ┆ [0.1, 0.2]    ┆ [0.5, 0.6]  │\n",
      "│ 1    ┆ 2         ┆ [0.3, 0.4]    ┆ [0.7, 0.8]  │\n",
      "└──────┴───────────┴───────────────┴─────────────┘, shape: (2, 4)\n",
      "┌──────┬───────────┬───────────────┬─────────────┐\n",
      "│ time ┆ entity_id ┆ conflict_prob ┆ death_count │\n",
      "│ ---  ┆ ---       ┆ ---           ┆ ---         │\n",
      "│ i64  ┆ i64       ┆ list[f64]     ┆ list[f64]   │\n",
      "╞══════╪═══════════╪═══════════════╪═════════════╡\n",
      "│ 1    ┆ 1         ┆ [0.1, 0.2]    ┆ [0.5, 0.6]  │\n",
      "│ 1    ┆ 2         ┆ [0.3, 0.4]    ┆ [0.7, 0.8]  │\n",
      "└──────┴───────────┴───────────────┴─────────────┘]\n",
      "shape: (2, 4)\n",
      "┌──────┬───────────┬───────────────────┬───────────────────┐\n",
      "│ time ┆ entity_id ┆ conflict_prob     ┆ death_count       │\n",
      "│ ---  ┆ ---       ┆ ---               ┆ ---               │\n",
      "│ i64  ┆ i64       ┆ list[f64]         ┆ list[f64]         │\n",
      "╞══════╪═══════════╪═══════════════════╪═══════════════════╡\n",
      "│ 1    ┆ 1         ┆ [0.1, 0.1, … 0.1] ┆ [0.5, 0.6, … 0.6] │\n",
      "│ 1    ┆ 2         ┆ [0.3, 0.3, … 0.3] ┆ [0.7, 0.7, … 0.7] │\n",
      "└──────┴───────────┴───────────────────┴───────────────────┘\n",
      "shape: (2, 4)\n",
      "┌──────┬───────────┬───────────────┬─────────────┐\n",
      "│ time ┆ entity_id ┆ conflict_prob ┆ death_count │\n",
      "│ ---  ┆ ---       ┆ ---           ┆ ---         │\n",
      "│ i64  ┆ i64       ┆ f64           ┆ f64         │\n",
      "╞══════╪═══════════╪═══════════════╪═════════════╡\n",
      "│ 1    ┆ 1         ┆ 0.15          ┆ 0.55        │\n",
      "│ 1    ┆ 2         ┆ 0.35          ┆ 0.75        │\n",
      "└──────┴───────────┴───────────────┴─────────────┘\n"
     ]
    }
   ],
   "execution_count": 151
  },
  {
   "metadata": {},
   "cell_type": "markdown",
   "source": [
    "## Other tests\n",
    "\n",
    "Test with path to parquet files of actual prediction output:"
   ],
   "id": "36b106ef46a6cd83"
  },
  {
   "metadata": {
    "ExecuteTime": {
     "end_time": "2025-09-11T08:42:45.868002Z",
     "start_time": "2025-09-11T08:42:45.802816Z"
    }
   },
   "cell_type": "code",
   "source": [
    "pq_bs = pl.read_parquet(\"data/bittersweetsymphony.parquet\")\n",
    "\n",
    "# Convert bittersweet columns to list\n",
    "pq_bs = pq_bs.with_columns(\n",
    "    pl.col(\"pred_ln_ged_sb_dep\").map_elements(lambda x: [float(x)], return_dtype=pl.List(pl.Float64))\n",
    ")\n",
    "\n",
    "pq_manager = AggregationManager(\n",
    "    index_cols=['month_id', 'country_id'],\n",
    "    target_cols=['pred_ln_ged_sb_dep'],\n",
    "    weights=[0.4, 0.4]\n",
    ")\n",
    "\n",
    "# Add models\n",
    "pq_manager.add_model(pq_bs)\n",
    "pq_manager.add_model(\"data/fastcar.parquet\")\n",
    "\n",
    "pq_manager.models"
   ],
   "id": "48b59bf1df1a1b19",
   "outputs": [
    {
     "data": {
      "text/plain": [
       "[shape: (6_876, 3)\n",
       " ┌──────────┬────────────┬────────────────────┐\n",
       " │ month_id ┆ country_id ┆ pred_ln_ged_sb_dep │\n",
       " │ ---      ┆ ---        ┆ ---                │\n",
       " │ i64      ┆ i64        ┆ list[f64]          │\n",
       " ╞══════════╪════════════╪════════════════════╡\n",
       " │ 548      ┆ 1          ┆ [0.005641]         │\n",
       " │ 548      ┆ 2          ┆ [0.005641]         │\n",
       " │ 548      ┆ 3          ┆ [0.005641]         │\n",
       " │ 548      ┆ 4          ┆ [0.059421]         │\n",
       " │ 548      ┆ 5          ┆ [0.005641]         │\n",
       " │ …        ┆ …          ┆ …                  │\n",
       " │ 583      ┆ 242        ┆ [0.063684]         │\n",
       " │ 583      ┆ 243        ┆ [0.284445]         │\n",
       " │ 583      ┆ 244        ┆ [0.164365]         │\n",
       " │ 583      ┆ 245        ┆ [2.944532]         │\n",
       " │ 583      ┆ 246        ┆ [1.551994]         │\n",
       " └──────────┴────────────┴────────────────────┘,\n",
       " shape: (6_876, 3)\n",
       " ┌──────────┬────────────┬────────────────────┐\n",
       " │ month_id ┆ country_id ┆ pred_ln_ged_sb_dep │\n",
       " │ ---      ┆ ---        ┆ ---                │\n",
       " │ i64      ┆ i64        ┆ list[f64]          │\n",
       " ╞══════════╪════════════╪════════════════════╡\n",
       " │ 547      ┆ 1          ┆ [0.000706]         │\n",
       " │ 547      ┆ 2          ┆ [0.00158]          │\n",
       " │ 547      ┆ 3          ┆ [0.072077]         │\n",
       " │ 547      ┆ 4          ┆ [0.011363]         │\n",
       " │ 547      ┆ 5          ┆ [0.001575]         │\n",
       " │ …        ┆ …          ┆ …                  │\n",
       " │ 582      ┆ 242        ┆ [0.327009]         │\n",
       " │ 582      ┆ 243        ┆ [0.229127]         │\n",
       " │ 582      ┆ 244        ┆ [0.16187]          │\n",
       " │ 582      ┆ 245        ┆ [4.861599]         │\n",
       " │ 582      ┆ 246        ┆ [2.111845]         │\n",
       " └──────────┴────────────┴────────────────────┘]"
      ]
     },
     "execution_count": 104,
     "metadata": {},
     "output_type": "execute_result"
    }
   ],
   "execution_count": 104
  },
  {
   "metadata": {
    "ExecuteTime": {
     "end_time": "2025-09-11T08:42:48.797114Z",
     "start_time": "2025-09-11T08:42:48.617466Z"
    }
   },
   "cell_type": "code",
   "source": "pq_manager.aggregate_distributions(\"weighted\", n_samples=10)",
   "id": "7c5ff351c58b1b23",
   "outputs": [
    {
     "data": {
      "text/plain": [
       "shape: (6_685, 3)\n",
       "┌──────────┬────────────┬─────────────────────────────────┐\n",
       "│ month_id ┆ country_id ┆ pred_ln_ged_sb_dep              │\n",
       "│ ---      ┆ ---        ┆ ---                             │\n",
       "│ i64      ┆ i64        ┆ list[f64]                       │\n",
       "╞══════════╪════════════╪═════════════════════════════════╡\n",
       "│ 548      ┆ 1          ┆ [0.005641, 0.005641, … 0.00179… │\n",
       "│ 548      ┆ 2          ┆ [0.005641, 0.005641, … 0.01054… │\n",
       "│ 548      ┆ 3          ┆ [0.005641, 0.005641, … 0.07090… │\n",
       "│ 548      ┆ 4          ┆ [0.059421, 0.059421, … 0.16792… │\n",
       "│ 548      ┆ 5          ┆ [0.005641, 0.005641, … 0.01015… │\n",
       "│ …        ┆ …          ┆ …                               │\n",
       "│ 582      ┆ 242        ┆ [0.08854, 0.08854, … 0.327009]  │\n",
       "│ 582      ┆ 243        ┆ [0.250007, 0.250007, … 0.22912… │\n",
       "│ 582      ┆ 244        ┆ [0.096728, 0.096728, … 0.16187… │\n",
       "│ 582      ┆ 245        ┆ [3.337652, 3.337652, … 4.86159… │\n",
       "│ 582      ┆ 246        ┆ [1.863699, 1.863699, … 2.11184… │\n",
       "└──────────┴────────────┴─────────────────────────────────┘"
      ],
      "text/html": [
       "<div><style>\n",
       ".dataframe > thead > tr,\n",
       ".dataframe > tbody > tr {\n",
       "  text-align: right;\n",
       "  white-space: pre-wrap;\n",
       "}\n",
       "</style>\n",
       "<small>shape: (6_685, 3)</small><table border=\"1\" class=\"dataframe\"><thead><tr><th>month_id</th><th>country_id</th><th>pred_ln_ged_sb_dep</th></tr><tr><td>i64</td><td>i64</td><td>list[f64]</td></tr></thead><tbody><tr><td>548</td><td>1</td><td>[0.005641, 0.005641, … 0.001793]</td></tr><tr><td>548</td><td>2</td><td>[0.005641, 0.005641, … 0.010542]</td></tr><tr><td>548</td><td>3</td><td>[0.005641, 0.005641, … 0.070901]</td></tr><tr><td>548</td><td>4</td><td>[0.059421, 0.059421, … 0.167927]</td></tr><tr><td>548</td><td>5</td><td>[0.005641, 0.005641, … 0.01015]</td></tr><tr><td>&hellip;</td><td>&hellip;</td><td>&hellip;</td></tr><tr><td>582</td><td>242</td><td>[0.08854, 0.08854, … 0.327009]</td></tr><tr><td>582</td><td>243</td><td>[0.250007, 0.250007, … 0.229127]</td></tr><tr><td>582</td><td>244</td><td>[0.096728, 0.096728, … 0.16187]</td></tr><tr><td>582</td><td>245</td><td>[3.337652, 3.337652, … 4.861599]</td></tr><tr><td>582</td><td>246</td><td>[1.863699, 1.863699, … 2.111845]</td></tr></tbody></table></div>"
      ]
     },
     "execution_count": 105,
     "metadata": {},
     "output_type": "execute_result"
    }
   ],
   "execution_count": 105
  },
  {
   "metadata": {},
   "cell_type": "markdown",
   "source": "Test with invalid dataframe:",
   "id": "3b343ecc926d8870"
  },
  {
   "metadata": {
    "ExecuteTime": {
     "end_time": "2025-09-11T07:15:55.932635Z",
     "start_time": "2025-09-11T07:15:55.897632Z"
    }
   },
   "cell_type": "code",
   "source": [
    "pdf_test = pd.DataFrame({\n",
    "    \"time\": [1, 1],\n",
    "    \"entity_id\": [\"dsf\", \"sdf\"],\n",
    "    \"conflict_prob\": [[0.5, 0.6], [0.7, 0.8]],\n",
    "    \"death_count\": [[0.5, 0.6], [0.7, 0.8]]\n",
    "})\n",
    "\n",
    "manager.add_model(pdf_test)"
   ],
   "id": "4543dc84f0e13fd",
   "outputs": [
    {
     "ename": "TypeError",
     "evalue": "Index column 'entity_id' must be integer, got String",
     "output_type": "error",
     "traceback": [
      "\u001B[0;31m---------------------------------------------------------------------------\u001B[0m",
      "\u001B[0;31mTypeError\u001B[0m                                 Traceback (most recent call last)",
      "Cell \u001B[0;32mIn[63], line 8\u001B[0m\n\u001B[1;32m      1\u001B[0m pdf_test \u001B[38;5;241m=\u001B[39m pd\u001B[38;5;241m.\u001B[39mDataFrame({\n\u001B[1;32m      2\u001B[0m     \u001B[38;5;124m\"\u001B[39m\u001B[38;5;124mtime\u001B[39m\u001B[38;5;124m\"\u001B[39m: [\u001B[38;5;241m1\u001B[39m, \u001B[38;5;241m1\u001B[39m],\n\u001B[1;32m      3\u001B[0m     \u001B[38;5;124m\"\u001B[39m\u001B[38;5;124mentity_id\u001B[39m\u001B[38;5;124m\"\u001B[39m: [\u001B[38;5;124m\"\u001B[39m\u001B[38;5;124mdsf\u001B[39m\u001B[38;5;124m\"\u001B[39m, \u001B[38;5;124m\"\u001B[39m\u001B[38;5;124msdf\u001B[39m\u001B[38;5;124m\"\u001B[39m],\n\u001B[1;32m      4\u001B[0m     \u001B[38;5;124m\"\u001B[39m\u001B[38;5;124mconflict_prob\u001B[39m\u001B[38;5;124m\"\u001B[39m: [[\u001B[38;5;241m0.5\u001B[39m, \u001B[38;5;241m0.6\u001B[39m], [\u001B[38;5;241m0.7\u001B[39m, \u001B[38;5;241m0.8\u001B[39m]],\n\u001B[1;32m      5\u001B[0m     \u001B[38;5;124m\"\u001B[39m\u001B[38;5;124mdeath_count\u001B[39m\u001B[38;5;124m\"\u001B[39m: [[\u001B[38;5;241m0.5\u001B[39m, \u001B[38;5;241m0.6\u001B[39m], [\u001B[38;5;241m0.7\u001B[39m, \u001B[38;5;241m0.8\u001B[39m]]\n\u001B[1;32m      6\u001B[0m })\n\u001B[0;32m----> 8\u001B[0m \u001B[43mmanager\u001B[49m\u001B[38;5;241;43m.\u001B[39;49m\u001B[43madd_model\u001B[49m\u001B[43m(\u001B[49m\u001B[43mpdf_test\u001B[49m\u001B[43m)\u001B[49m\n",
      "File \u001B[0;32m~/PycharmProjects/views/AggregationManager/aggregation.py:85\u001B[0m, in \u001B[0;36mAggregationManager.add_model\u001B[0;34m(self, data)\u001B[0m\n\u001B[1;32m     83\u001B[0m \u001B[38;5;28;01mfor\u001B[39;00m col \u001B[38;5;129;01min\u001B[39;00m \u001B[38;5;28mself\u001B[39m\u001B[38;5;241m.\u001B[39mindex_cols:\n\u001B[1;32m     84\u001B[0m     \u001B[38;5;28;01mif\u001B[39;00m \u001B[38;5;129;01mnot\u001B[39;00m \u001B[38;5;28misinstance\u001B[39m(df[col]\u001B[38;5;241m.\u001B[39mdtype, pl\u001B[38;5;241m.\u001B[39mdatatypes\u001B[38;5;241m.\u001B[39mIntegerType):\n\u001B[0;32m---> 85\u001B[0m         \u001B[38;5;28;01mraise\u001B[39;00m \u001B[38;5;167;01mTypeError\u001B[39;00m(\u001B[38;5;124mf\u001B[39m\u001B[38;5;124m\"\u001B[39m\u001B[38;5;124mIndex column \u001B[39m\u001B[38;5;124m'\u001B[39m\u001B[38;5;132;01m{\u001B[39;00mcol\u001B[38;5;132;01m}\u001B[39;00m\u001B[38;5;124m'\u001B[39m\u001B[38;5;124m must be integer, got \u001B[39m\u001B[38;5;132;01m{\u001B[39;00mdf[col]\u001B[38;5;241m.\u001B[39mdtype\u001B[38;5;132;01m}\u001B[39;00m\u001B[38;5;124m\"\u001B[39m)\n\u001B[1;32m     86\u001B[0m \u001B[38;5;28;01mfor\u001B[39;00m col \u001B[38;5;129;01min\u001B[39;00m \u001B[38;5;28mself\u001B[39m\u001B[38;5;241m.\u001B[39mtarget_cols:\n\u001B[1;32m     87\u001B[0m     \u001B[38;5;28;01mif\u001B[39;00m \u001B[38;5;129;01mnot\u001B[39;00m \u001B[38;5;28misinstance\u001B[39m(df[col]\u001B[38;5;241m.\u001B[39mdtype, pl\u001B[38;5;241m.\u001B[39mdatatypes\u001B[38;5;241m.\u001B[39mList):\n",
      "\u001B[0;31mTypeError\u001B[0m: Index column 'entity_id' must be integer, got String"
     ]
    }
   ],
   "execution_count": 63
  },
  {
   "metadata": {},
   "cell_type": "markdown",
   "source": "Test with invalid aggregation method",
   "id": "42033b45e646ef80"
  },
  {
   "metadata": {
    "ExecuteTime": {
     "end_time": "2025-09-11T07:15:55.938417Z",
     "start_time": "2025-09-10T11:18:24.749420Z"
    }
   },
   "cell_type": "code",
   "source": "manager.aggregate_point_predictions(\"hello\")",
   "id": "a185b5c1d235bdc1",
   "outputs": [
    {
     "ename": "ValueError",
     "evalue": "Unsupported aggregation function: \"hello\", must be one of 'mean', 'median', 'min', 'max' or custum aggregation function of form Callable[[pl.Series], float]",
     "output_type": "error",
     "traceback": [
      "\u001B[0;31m---------------------------------------------------------------------------\u001B[0m",
      "\u001B[0;31mValueError\u001B[0m                                Traceback (most recent call last)",
      "Cell \u001B[0;32mIn[34], line 1\u001B[0m\n\u001B[0;32m----> 1\u001B[0m \u001B[43mmanager\u001B[49m\u001B[38;5;241;43m.\u001B[39;49m\u001B[43maggregate_point_predictions\u001B[49m\u001B[43m(\u001B[49m\u001B[38;5;124;43m\"\u001B[39;49m\u001B[38;5;124;43mhello\u001B[39;49m\u001B[38;5;124;43m\"\u001B[39;49m\u001B[43m)\u001B[49m\n",
      "File \u001B[0;32m~/PycharmProjects/views/AggregationManager/aggregation.py:179\u001B[0m, in \u001B[0;36mAggregationManager.aggregate_point_predictions\u001B[0;34m(self, aggregation_func, use_weights)\u001B[0m\n\u001B[1;32m    177\u001B[0m     aggregation_func \u001B[38;5;241m=\u001B[39m aggregation_func\n\u001B[1;32m    178\u001B[0m \u001B[38;5;28;01melse\u001B[39;00m:\n\u001B[0;32m--> 179\u001B[0m     \u001B[38;5;28;01mraise\u001B[39;00m \u001B[38;5;167;01mValueError\u001B[39;00m(\u001B[38;5;124mf\u001B[39m\u001B[38;5;124m\"\u001B[39m\u001B[38;5;124mUnsupported aggregation function: \u001B[39m\u001B[38;5;130;01m\\\"\u001B[39;00m\u001B[38;5;132;01m{\u001B[39;00maggregation_func\u001B[38;5;132;01m}\u001B[39;00m\u001B[38;5;130;01m\\\"\u001B[39;00m\u001B[38;5;124m, must be one of \u001B[39m\u001B[38;5;124m'\u001B[39m\u001B[38;5;124mmean\u001B[39m\u001B[38;5;124m'\u001B[39m\u001B[38;5;124m, \u001B[39m\u001B[38;5;124m'\u001B[39m\u001B[38;5;124mmedian\u001B[39m\u001B[38;5;124m'\u001B[39m\u001B[38;5;124m, \u001B[39m\u001B[38;5;124m\"\u001B[39m\n\u001B[1;32m    180\u001B[0m                      \u001B[38;5;124mf\u001B[39m\u001B[38;5;124m\"\u001B[39m\u001B[38;5;124m'\u001B[39m\u001B[38;5;124mmin\u001B[39m\u001B[38;5;124m'\u001B[39m\u001B[38;5;124m, \u001B[39m\u001B[38;5;124m'\u001B[39m\u001B[38;5;124mmax\u001B[39m\u001B[38;5;124m'\u001B[39m\u001B[38;5;124m or custum aggregation function of form Callable[[pl.Series], float]\u001B[39m\u001B[38;5;124m\"\u001B[39m)\n\u001B[1;32m    183\u001B[0m \u001B[38;5;66;03m# TODO Implementation here\u001B[39;00m\n\u001B[1;32m    185\u001B[0m \u001B[38;5;28;01mpass\u001B[39;00m\n",
      "\u001B[0;31mValueError\u001B[0m: Unsupported aggregation function: \"hello\", must be one of 'mean', 'median', 'min', 'max' or custum aggregation function of form Callable[[pl.Series], float]"
     ]
    }
   ],
   "execution_count": 34
  },
  {
   "metadata": {},
   "cell_type": "markdown",
   "source": "Test with synthetic distributions",
   "id": "cde58a02fcbec40e"
  },
  {
   "metadata": {
    "ExecuteTime": {
     "end_time": "2025-09-11T10:00:44.245622Z",
     "start_time": "2025-09-11T10:00:44.222963Z"
    }
   },
   "cell_type": "code",
   "source": [
    "importlib.reload(aggregation)\n",
    "from aggregation import AggregationManager\n",
    "\n",
    "# manager setup\n",
    "synth_manager = AggregationManager(\n",
    "    index_cols=[\"time\", \"entity_id\"],\n",
    "    target_cols=[\"conflict_prob\", \"death_count\"],\n",
    "    weights=[0.3, 0.7],  # different weights\n",
    ")\n",
    "\n",
    "# --- Generate synthetic distributions ---\n",
    "\n",
    "n_entities = 2\n",
    "n_samples_per_model = 500\n",
    "\n",
    "# Model 1 (Polars DF)\n",
    "np.random.seed(42)\n",
    "conflict_prob_m1 = [np.random.normal(loc=0.2, scale=0.05, size=n_samples_per_model).tolist() for _ in range(n_entities)]\n",
    "death_count_m1 = [np.random.normal(loc=5, scale=2, size=n_samples_per_model).tolist() for _ in range(n_entities)]\n",
    "\n",
    "pdf1 = pl.DataFrame({\n",
    "    \"time\": [1, 1],\n",
    "    \"entity_id\": [1, 2],\n",
    "    \"conflict_prob\": pl.Series(\"conflict_prob\", conflict_prob_m1, dtype=pl.List(pl.Float64)),\n",
    "    \"death_count\": pl.Series(\"death_count\", death_count_m1, dtype=pl.List(pl.Float64)),\n",
    "})\n",
    "\n",
    "# Model 2 (Pandas DF)\n",
    "conflict_prob_m2 = [np.random.normal(loc=0.6, scale=0.1, size=n_samples_per_model).tolist() for _ in range(n_entities)]\n",
    "death_count_m2 = [np.random.normal(loc=15, scale=3, size=n_samples_per_model).tolist() for _ in range(n_entities)]\n",
    "\n",
    "pdf2 = pd.DataFrame({\n",
    "    \"time\": [1, 1],\n",
    "    \"entity_id\": [1, 2],\n",
    "    \"conflict_prob\": conflict_prob_m2,\n",
    "    \"death_count\": death_count_m2,\n",
    "})\n",
    "\n",
    "# add models\n",
    "synth_manager.add_model(pdf1)\n",
    "synth_manager.add_model(pdf2)\n",
    "\n",
    "# --- Aggregate ---\n",
    "ensemble_distributions_w = synth_manager.aggregate_distributions(\"weighted\", n_samples=1000)\n",
    "ensemble_distributions_a = synth_manager.aggregate_distributions(\"average\", n_samples=1000)\n",
    "\n",
    "print(ensemble_distributions_w)\n",
    "\n",
    "point_distributions_w = synth_manager.aggregate_point_predictions(\"mean\")\n",
    "point_distributions_a = synth_manager.aggregate_point_predictions(use_weights=False)\n",
    "\n",
    "print(point_distributions_w)"
   ],
   "id": "71ea23b9cf91147a",
   "outputs": [
    {
     "name": "stdout",
     "output_type": "stream",
     "text": [
      "shape: (2, 4)\n",
      "┌──────┬───────────┬─────────────────────────────────┬─────────────────────────────────┐\n",
      "│ time ┆ entity_id ┆ conflict_prob                   ┆ death_count                     │\n",
      "│ ---  ┆ ---       ┆ ---                             ┆ ---                             │\n",
      "│ i64  ┆ i64       ┆ list[f64]                       ┆ list[f64]                       │\n",
      "╞══════╪═══════════╪═════════════════════════════════╪═════════════════════════════════╡\n",
      "│ 1    ┆ 1         ┆ [0.142851, 0.177497, … 0.63405… ┆ [2.920188, 5.827598, … 14.5818… │\n",
      "│ 1    ┆ 2         ┆ [0.158452, 0.143726, … 0.64736… ┆ [4.818933, 4.355359, … 11.3146… │\n",
      "└──────┴───────────┴─────────────────────────────────┴─────────────────────────────────┘\n",
      "shape: (2, 4)\n",
      "┌──────┬───────────┬───────────────┬─────────────┐\n",
      "│ time ┆ entity_id ┆ conflict_prob ┆ death_count │\n",
      "│ ---  ┆ ---       ┆ ---           ┆ ---         │\n",
      "│ i64  ┆ i64       ┆ f64           ┆ f64         │\n",
      "╞══════╪═══════════╪═══════════════╪═════════════╡\n",
      "│ 1    ┆ 1         ┆ 0.479296      ┆ 12.026185   │\n",
      "│ 1    ┆ 2         ┆ 0.4821        ┆ 11.980197   │\n",
      "└──────┴───────────┴───────────────┴─────────────┘\n"
     ]
    }
   ],
   "execution_count": 149
  },
  {
   "metadata": {
    "ExecuteTime": {
     "end_time": "2025-09-11T10:00:47.087612Z",
     "start_time": "2025-09-11T10:00:46.825169Z"
    }
   },
   "cell_type": "code",
   "source": [
    "# Take the pooled samples for one target, one entity\n",
    "pooled_weighted = ensemble_distributions_w.filter(pl.col(\"entity_id\") == 1)[\"conflict_prob\"][0]\n",
    "pooled_average = ensemble_distributions_a.filter(pl.col(\"entity_id\") == 1)[\"conflict_prob\"][0]\n",
    "\n",
    "# Take the point predictinos\n",
    "point_w = point_distributions_w.filter(pl.col(\"entity_id\") == 1)[\"conflict_prob\"][0]\n",
    "point_a = point_distributions_a.filter(pl.col(\"entity_id\") == 1)[\"conflict_prob\"][0]\n",
    "\n",
    "\n",
    "fig, axes = plt.subplots(1, 2, figsize=(12, 5), sharey=True)\n",
    "\n",
    "# Weighted pooling\n",
    "axes[0].hist(conflict_prob_m1[0], bins=50, alpha=0.4, label=f\"Model 1 ({synth_manager.weights[0]})\")\n",
    "axes[0].hist(conflict_prob_m2[0], bins=50, alpha=0.4, label=f\"Model 2 ({synth_manager.weights[1]})\")\n",
    "axes[0].hist(pooled_weighted, bins=50, alpha=0.7, label=\"Pooled\")\n",
    "axes[0].axvline(point_w, color=\"red\", linestyle=\"--\", linewidth=2, label=f\"Point pred ({point_w:.3f})\")\n",
    "axes[0].set_title(\"Weighted Linear Pooling\")\n",
    "axes[0].set_xlabel(\"conflict_prob\")\n",
    "axes[0].set_ylabel(\"Frequency\")\n",
    "axes[0].legend()\n",
    "\n",
    "# Average pooling\n",
    "axes[1].hist(conflict_prob_m1[0], bins=50, alpha=0.4, label=\"Model 2\")\n",
    "axes[1].hist(conflict_prob_m2[0], bins=50, alpha=0.4, label=\"Model 2\")\n",
    "axes[1].hist(pooled_average, bins=50, alpha=0.7, label=\"Pooled\")\n",
    "axes[1].axvline(point_a, color=\"red\", linestyle=\"--\", linewidth=2, label=f\"Point pred ({point_a:.3f})\")\n",
    "axes[1].set_title(\"Average Pooling\")\n",
    "axes[1].set_xlabel(\"conflict_prob\")\n",
    "axes[1].legend()\n",
    "\n",
    "plt.tight_layout()\n",
    "plt.show()"
   ],
   "id": "e686b9ecd5f10dcc",
   "outputs": [
    {
     "data": {
      "text/plain": [
       "<Figure size 1200x500 with 2 Axes>"
      ],
      "image/png": "[encoded data removed]"
     },
     "metadata": {},
     "output_type": "display_data",
     "jetTransient": {
      "display_id": null
     }
    }
   ],
   "execution_count": 150
  }
 ],
 "metadata": {
  "kernelspec": {
   "name": "python3",
   "language": "python",
   "display_name": "Python 3 (ipykernel)"
  }
 },
 "nbformat": 4,
 "nbformat_minor": 5
}
