{
 "cells": [
  {
   "metadata": {},
   "cell_type": "markdown",
   "source": "# Sandbox for Support Distribution Aggregation #41",
   "id": "add0519a32c3cfd3"
  },
  {
   "metadata": {
    "ExecuteTime": {
     "end_time": "2025-09-09T12:44:46.759822Z",
     "start_time": "2025-09-09T12:44:46.757249Z"
    }
   },
   "cell_type": "code",
   "source": [
    "import polars as pl\n",
    "import pandas as pd\n",
    "import numpy as np\n",
    "\n",
    "import importlib\n",
    "import aggregation"
   ],
   "id": "fa7c70849a4849d0",
   "outputs": [],
   "execution_count": 33
  },
  {
   "metadata": {
    "ExecuteTime": {
     "end_time": "2025-09-09T12:16:46.019763Z",
     "start_time": "2025-09-09T12:16:46.006919Z"
    }
   },
   "cell_type": "code",
   "source": [
    "importlib.reload(aggregation)\n",
    "from aggregation import AggregationManager\n",
    "\n",
    "manager = AggregationManager(\n",
    "    index_cols=['time', 'entity_id'],\n",
    "    target_cols=['conflict_prob', 'death_count']\n",
    ")\n",
    "\n",
    "pdf = pl.DataFrame({\n",
    "    \"time\": [1, 1],\n",
    "    \"entity_id\": [1, 2],\n",
    "    \"conflict_prob\": pl.Series(\"conflict_prob\", [[0.1, 0.2], [0.3, 0.4]], dtype=pl.List(pl.Float64)),\n",
    "    \"death_count\": pl.Series(\"death_count\", [[0.5, 0.6], [0.7, 0.8]], dtype=pl.List(pl.Float64))\n",
    "})\n",
    "\n",
    "pdf_pd = pd.DataFrame({\n",
    "    \"time\": [1, 1],\n",
    "    \"entity_id\": [1, 2],\n",
    "    \"conflict_prob\": [[0.1, 0.2], [0.3, 0.4]],\n",
    "    \"death_count\": [[0.5, 0.6], [0.7, 0.8]]\n",
    "})\n",
    "\n",
    "manager.add_model(pdf)\n",
    "manager.add_model(pdf_pd)"
   ],
   "id": "c2d8f78d7caafb0",
   "outputs": [],
   "execution_count": 21
  },
  {
   "metadata": {
    "ExecuteTime": {
     "end_time": "2025-09-09T12:45:28.967181Z",
     "start_time": "2025-09-09T12:45:28.918787Z"
    }
   },
   "cell_type": "code",
   "source": [
    "test_parquet_path = \"views-models/models/fast_car/data/generated/predictions_forecasting_20250909_131353.parquet\"\n",
    "\n",
    "test_parquet = pl.read_parquet(test_parquet_path)\n",
    "\n",
    "def random_float_list(n=5):\n",
    "    return np.random.rand(n).tolist()\n",
    "\n",
    "# Add column of lists (each row gets a random list of floats)\n",
    "test_parquet = test_parquet.with_columns(\n",
    "    pl.Series(\"test_ged_sb\", [random_float_list(5) for _ in range(len(test_parquet))], dtype=pl.List(pl.Float64))\n",
    ")"
   ],
   "id": "647a32b4af5ba278",
   "outputs": [],
   "execution_count": 37
  },
  {
   "metadata": {
    "ExecuteTime": {
     "end_time": "2025-09-09T12:53:30.178499Z",
     "start_time": "2025-09-09T12:53:30.173485Z"
    }
   },
   "cell_type": "code",
   "source": [
    "test_parquet2_path = \"predictions_forecasting_20250807.parquet\"\n",
    "test_parquet2 = pl.read_parquet(test_parquet2_path)\n",
    "test_parquet2.head()"
   ],
   "id": "48b59bf1df1a1b19",
   "outputs": [
    {
     "data": {
      "text/plain": [
       "shape: (5, 3)\n",
       "┌────────────────────┬──────────┬────────────┐\n",
       "│ pred_ln_ged_sb_dep ┆ month_id ┆ country_id │\n",
       "│ ---                ┆ ---      ┆ ---        │\n",
       "│ list[f64]          ┆ i64      ┆ i64        │\n",
       "╞════════════════════╪══════════╪════════════╡\n",
       "│ [0.000706]         ┆ 547      ┆ 1          │\n",
       "│ [0.00158]          ┆ 547      ┆ 2          │\n",
       "│ [0.072077]         ┆ 547      ┆ 3          │\n",
       "│ [0.011363]         ┆ 547      ┆ 4          │\n",
       "│ [0.001575]         ┆ 547      ┆ 5          │\n",
       "└────────────────────┴──────────┴────────────┘"
      ],
      "text/html": [
       "<div><style>\n",
       ".dataframe > thead > tr,\n",
       ".dataframe > tbody > tr {\n",
       "  text-align: right;\n",
       "  white-space: pre-wrap;\n",
       "}\n",
       "</style>\n",
       "<small>shape: (5, 3)</small><table border=\"1\" class=\"dataframe\"><thead><tr><th>pred_ln_ged_sb_dep</th><th>month_id</th><th>country_id</th></tr><tr><td>list[f64]</td><td>i64</td><td>i64</td></tr></thead><tbody><tr><td>[0.000706]</td><td>547</td><td>1</td></tr><tr><td>[0.00158]</td><td>547</td><td>2</td></tr><tr><td>[0.072077]</td><td>547</td><td>3</td></tr><tr><td>[0.011363]</td><td>547</td><td>4</td></tr><tr><td>[0.001575]</td><td>547</td><td>5</td></tr></tbody></table></div>"
      ]
     },
     "execution_count": 42,
     "metadata": {},
     "output_type": "execute_result"
    }
   ],
   "execution_count": 42
  },
  {
   "metadata": {
    "ExecuteTime": {
     "end_time": "2025-09-09T12:45:30.860991Z",
     "start_time": "2025-09-09T12:45:30.855033Z"
    }
   },
   "cell_type": "code",
   "source": "test_parquet.head()",
   "id": "b5e4e610bcefd971",
   "outputs": [
    {
     "data": {
      "text/plain": [
       "shape: (5, 4)\n",
       "┌────────────────────┬──────────┬────────────┬─────────────────────────────────┐\n",
       "│ pred_ln_ged_sb_dep ┆ month_id ┆ country_id ┆ test_ged_sb                     │\n",
       "│ ---                ┆ ---      ┆ ---        ┆ ---                             │\n",
       "│ f64                ┆ i64      ┆ i64        ┆ list[f64]                       │\n",
       "╞════════════════════╪══════════╪════════════╪═════════════════════════════════╡\n",
       "│ 0.0                ┆ 548      ┆ 1          ┆ [0.62407, 0.530657, … 0.422733… │\n",
       "│ 0.0                ┆ 548      ┆ 2          ┆ [0.041434, 0.702877, … 0.74959… │\n",
       "│ 0.0                ┆ 548      ┆ 3          ┆ [0.258695, 0.384361, … 0.63644… │\n",
       "│ 0.0                ┆ 548      ┆ 4          ┆ [0.754387, 0.075952, … 0.12140… │\n",
       "│ 0.0                ┆ 548      ┆ 5          ┆ [0.330836, 0.302485, … 0.62128… │\n",
       "└────────────────────┴──────────┴────────────┴─────────────────────────────────┘"
      ],
      "text/html": [
       "<div><style>\n",
       ".dataframe > thead > tr,\n",
       ".dataframe > tbody > tr {\n",
       "  text-align: right;\n",
       "  white-space: pre-wrap;\n",
       "}\n",
       "</style>\n",
       "<small>shape: (5, 4)</small><table border=\"1\" class=\"dataframe\"><thead><tr><th>pred_ln_ged_sb_dep</th><th>month_id</th><th>country_id</th><th>test_ged_sb</th></tr><tr><td>f64</td><td>i64</td><td>i64</td><td>list[f64]</td></tr></thead><tbody><tr><td>0.0</td><td>548</td><td>1</td><td>[0.62407, 0.530657, … 0.422733]</td></tr><tr><td>0.0</td><td>548</td><td>2</td><td>[0.041434, 0.702877, … 0.749599]</td></tr><tr><td>0.0</td><td>548</td><td>3</td><td>[0.258695, 0.384361, … 0.636447]</td></tr><tr><td>0.0</td><td>548</td><td>4</td><td>[0.754387, 0.075952, … 0.121407]</td></tr><tr><td>0.0</td><td>548</td><td>5</td><td>[0.330836, 0.302485, … 0.621282]</td></tr></tbody></table></div>"
      ]
     },
     "execution_count": 38,
     "metadata": {},
     "output_type": "execute_result"
    }
   ],
   "execution_count": 38
  },
  {
   "metadata": {
    "ExecuteTime": {
     "end_time": "2025-09-09T12:45:39.386214Z",
     "start_time": "2025-09-09T12:45:39.384205Z"
    }
   },
   "cell_type": "code",
   "source": [
    "pq_manager = AggregationManager(\n",
    "    index_cols=['month_id', 'country_id'],\n",
    "    target_cols=['test_ged_sb']\n",
    ")\n",
    "\n",
    "pq_manager.add_model(test_parquet)"
   ],
   "id": "cd8314396b046dc2",
   "outputs": [],
   "execution_count": 39
  },
  {
   "metadata": {
    "ExecuteTime": {
     "end_time": "2025-09-09T12:45:46.405630Z",
     "start_time": "2025-09-09T12:45:46.400723Z"
    }
   },
   "cell_type": "code",
   "source": "pq_manager.models",
   "id": "7d36a9ad3c60f95a",
   "outputs": [
    {
     "data": {
      "text/plain": [
       "[shape: (6_876, 4)\n",
       " ┌────────────────────┬──────────┬────────────┬─────────────────────────────────┐\n",
       " │ pred_ln_ged_sb_dep ┆ month_id ┆ country_id ┆ test_ged_sb                     │\n",
       " │ ---                ┆ ---      ┆ ---        ┆ ---                             │\n",
       " │ f64                ┆ i64      ┆ i64        ┆ list[f64]                       │\n",
       " ╞════════════════════╪══════════╪════════════╪═════════════════════════════════╡\n",
       " │ 0.0                ┆ 548      ┆ 1          ┆ [0.62407, 0.530657, … 0.422733… │\n",
       " │ 0.0                ┆ 548      ┆ 2          ┆ [0.041434, 0.702877, … 0.74959… │\n",
       " │ 0.0                ┆ 548      ┆ 3          ┆ [0.258695, 0.384361, … 0.63644… │\n",
       " │ 0.0                ┆ 548      ┆ 4          ┆ [0.754387, 0.075952, … 0.12140… │\n",
       " │ 0.0                ┆ 548      ┆ 5          ┆ [0.330836, 0.302485, … 0.62128… │\n",
       " │ …                  ┆ …        ┆ …          ┆ …                               │\n",
       " │ 0.0                ┆ 583      ┆ 242        ┆ [0.626163, 0.428294, … 0.85409… │\n",
       " │ 0.0                ┆ 583      ┆ 243        ┆ [0.581361, 0.518825, … 0.67515… │\n",
       " │ 0.0                ┆ 583      ┆ 244        ┆ [0.500462, 0.077999, … 0.05783… │\n",
       " │ 2.731004           ┆ 583      ┆ 245        ┆ [0.726721, 0.329417, … 0.75646… │\n",
       " │ 0.0                ┆ 583      ┆ 246        ┆ [0.051849, 0.729736, … 0.06388… │\n",
       " └────────────────────┴──────────┴────────────┴─────────────────────────────────┘]"
      ]
     },
     "execution_count": 40,
     "metadata": {},
     "output_type": "execute_result"
    }
   ],
   "execution_count": 40
  },
  {
   "metadata": {
    "ExecuteTime": {
     "end_time": "2025-09-09T12:18:20.455640Z",
     "start_time": "2025-09-09T12:18:20.427788Z"
    }
   },
   "cell_type": "code",
   "source": [
    "pdf_test = pd.DataFrame({\n",
    "    \"time\": [1, 1],\n",
    "    \"entity_id\": [\"dsf\", \"sdf\"],\n",
    "    \"conflict_prob\": [[0.5, 0.6], [0.7, 0.8]],\n",
    "    \"death_count\": [[0.5, 0.6], [0.7, 0.8]]\n",
    "})\n",
    "\n",
    "manager.add_model(pdf_test)"
   ],
   "id": "4543dc84f0e13fd",
   "outputs": [
    {
     "ename": "TypeError",
     "evalue": "Index column 'entity_id' must be integer, got String",
     "output_type": "error",
     "traceback": [
      "\u001B[0;31m---------------------------------------------------------------------------\u001B[0m",
      "\u001B[0;31mTypeError\u001B[0m                                 Traceback (most recent call last)",
      "Cell \u001B[0;32mIn[27], line 8\u001B[0m\n\u001B[1;32m      1\u001B[0m pdf_test \u001B[38;5;241m=\u001B[39m pd\u001B[38;5;241m.\u001B[39mDataFrame({\n\u001B[1;32m      2\u001B[0m     \u001B[38;5;124m\"\u001B[39m\u001B[38;5;124mtime\u001B[39m\u001B[38;5;124m\"\u001B[39m: [\u001B[38;5;241m1\u001B[39m, \u001B[38;5;241m1\u001B[39m],\n\u001B[1;32m      3\u001B[0m     \u001B[38;5;124m\"\u001B[39m\u001B[38;5;124mentity_id\u001B[39m\u001B[38;5;124m\"\u001B[39m: [\u001B[38;5;124m\"\u001B[39m\u001B[38;5;124mdsf\u001B[39m\u001B[38;5;124m\"\u001B[39m, \u001B[38;5;124m\"\u001B[39m\u001B[38;5;124msdf\u001B[39m\u001B[38;5;124m\"\u001B[39m],\n\u001B[1;32m      4\u001B[0m     \u001B[38;5;124m\"\u001B[39m\u001B[38;5;124mconflict_prob\u001B[39m\u001B[38;5;124m\"\u001B[39m: [[\u001B[38;5;241m0.5\u001B[39m, \u001B[38;5;241m0.6\u001B[39m], [\u001B[38;5;241m0.7\u001B[39m, \u001B[38;5;241m0.8\u001B[39m]],\n\u001B[1;32m      5\u001B[0m     \u001B[38;5;124m\"\u001B[39m\u001B[38;5;124mdeath_count\u001B[39m\u001B[38;5;124m\"\u001B[39m: [[\u001B[38;5;241m0.5\u001B[39m, \u001B[38;5;241m0.6\u001B[39m], [\u001B[38;5;241m0.7\u001B[39m, \u001B[38;5;241m0.8\u001B[39m]]\n\u001B[1;32m      6\u001B[0m })\n\u001B[0;32m----> 8\u001B[0m \u001B[43mmanager\u001B[49m\u001B[38;5;241;43m.\u001B[39;49m\u001B[43madd_model\u001B[49m\u001B[43m(\u001B[49m\u001B[43mpdf_test\u001B[49m\u001B[43m)\u001B[49m\n",
      "File \u001B[0;32m~/PycharmProjects/views/aggregation.py:80\u001B[0m, in \u001B[0;36mAggregationManager.add_model\u001B[0;34m(self, data)\u001B[0m\n\u001B[1;32m     78\u001B[0m \u001B[38;5;28;01mfor\u001B[39;00m col \u001B[38;5;129;01min\u001B[39;00m \u001B[38;5;28mself\u001B[39m\u001B[38;5;241m.\u001B[39mindex_cols:\n\u001B[1;32m     79\u001B[0m     \u001B[38;5;28;01mif\u001B[39;00m \u001B[38;5;129;01mnot\u001B[39;00m \u001B[38;5;28misinstance\u001B[39m(df[col]\u001B[38;5;241m.\u001B[39mdtype, pl\u001B[38;5;241m.\u001B[39mdatatypes\u001B[38;5;241m.\u001B[39mIntegerType):\n\u001B[0;32m---> 80\u001B[0m         \u001B[38;5;28;01mraise\u001B[39;00m \u001B[38;5;167;01mTypeError\u001B[39;00m(\u001B[38;5;124mf\u001B[39m\u001B[38;5;124m\"\u001B[39m\u001B[38;5;124mIndex column \u001B[39m\u001B[38;5;124m'\u001B[39m\u001B[38;5;132;01m{\u001B[39;00mcol\u001B[38;5;132;01m}\u001B[39;00m\u001B[38;5;124m'\u001B[39m\u001B[38;5;124m must be integer, got \u001B[39m\u001B[38;5;132;01m{\u001B[39;00mdf[col]\u001B[38;5;241m.\u001B[39mdtype\u001B[38;5;132;01m}\u001B[39;00m\u001B[38;5;124m\"\u001B[39m)\n\u001B[1;32m     81\u001B[0m \u001B[38;5;28;01mfor\u001B[39;00m col \u001B[38;5;129;01min\u001B[39;00m \u001B[38;5;28mself\u001B[39m\u001B[38;5;241m.\u001B[39mtarget_cols:\n\u001B[1;32m     82\u001B[0m     \u001B[38;5;28;01mif\u001B[39;00m \u001B[38;5;129;01mnot\u001B[39;00m \u001B[38;5;28misinstance\u001B[39m(df[col]\u001B[38;5;241m.\u001B[39mdtype, pl\u001B[38;5;241m.\u001B[39mdatatypes\u001B[38;5;241m.\u001B[39mList):\n",
      "\u001B[0;31mTypeError\u001B[0m: Index column 'entity_id' must be integer, got String"
     ]
    }
   ],
   "execution_count": 27
  },
  {
   "metadata": {
    "ExecuteTime": {
     "end_time": "2025-09-09T12:13:19.294813Z",
     "start_time": "2025-09-09T12:13:19.292070Z"
    }
   },
   "cell_type": "code",
   "source": "manager.models",
   "id": "71a89b1f951550b7",
   "outputs": [
    {
     "data": {
      "text/plain": [
       "[shape: (2, 4)\n",
       " ┌──────┬───────────┬───────────────┬─────────────┐\n",
       " │ time ┆ region_id ┆ conflict_prob ┆ death_count │\n",
       " │ ---  ┆ ---       ┆ ---           ┆ ---         │\n",
       " │ i64  ┆ i64       ┆ list[f64]     ┆ list[f64]   │\n",
       " ╞══════╪═══════════╪═══════════════╪═════════════╡\n",
       " │ 1    ┆ 1         ┆ [0.1, 0.2]    ┆ [0.5, 0.6]  │\n",
       " │ 1    ┆ 2         ┆ [0.3, 0.4]    ┆ [0.7, 0.8]  │\n",
       " └──────┴───────────┴───────────────┴─────────────┘,\n",
       " shape: (2, 4)\n",
       " ┌──────┬───────────┬───────────────┬─────────────┐\n",
       " │ time ┆ region_id ┆ conflict_prob ┆ death_count │\n",
       " │ ---  ┆ ---       ┆ ---           ┆ ---         │\n",
       " │ i64  ┆ i64       ┆ list[f64]     ┆ list[f64]   │\n",
       " ╞══════╪═══════════╪═══════════════╪═════════════╡\n",
       " │ 1    ┆ 1         ┆ [0.1, 0.2]    ┆ [0.5, 0.6]  │\n",
       " │ 1    ┆ 2         ┆ [0.3, 0.4]    ┆ [0.7, 0.8]  │\n",
       " └──────┴───────────┴───────────────┴─────────────┘]"
      ]
     },
     "execution_count": 18,
     "metadata": {},
     "output_type": "execute_result"
    }
   ],
   "execution_count": 18
  }
 ],
 "metadata": {
  "kernelspec": {
   "name": "python3",
   "language": "python",
   "display_name": "Python 3 (ipykernel)"
  }
 },
 "nbformat": 4,
 "nbformat_minor": 5
}
